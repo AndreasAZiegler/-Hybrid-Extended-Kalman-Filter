{
 "cells": [
  {
   "cell_type": "markdown",
   "metadata": {},
   "source": [
    "# (Hybrid) Extended Kalman Filter System"
   ]
  },
  {
   "cell_type": "markdown",
   "metadata": {},
   "source": [
    "## General EKF System model\n",
    "### System model\n",
    "$\\vec x(k) = \\vec q_{k-1}(\\vec x(k-1), \\vec u(k-1), \\vec v(k-1))$,   with $E[\\vec x(0)] = \\vec x_0$, $Var[\\vec x(0)] = P_0$, $E[\\vec v(k-1)] = \\vec 0$, $Var[\\vec v(k-1) = Q(k-1)$\n"
   ]
  },
  {
   "cell_type": "markdown",
   "metadata": {},
   "source": [
    "### Measurement model\n",
    "$z(k) = h_k(x(k), w(k))$,   with $E[w(k)] = 0$, $Var[w(k)] = R(k)$"
   ]
  },
  {
   "cell_type": "markdown",
   "metadata": {},
   "source": [
    "### Step 1 (Prior Update):\n",
    "$A(k-1) = \\frac{\\partial q_{k-1}}{\\partial x(k-1)} (\\hat{x}_m (k-1), u(k-1), \\textbf{v(k-1)=0})$\n",
    "\n",
    "$L(k-1) = \\frac{\\partial q_{k-1}}{\\partial v(k-1)} (\\hat{x}_m (k-1), u(k-1), \\textbf{v(k-1)=0})$\n",
    "\n",
    "$\\hat{x}_p (k) = q_{k-1} (\\hat{x}_m (k-1), u(k-1), \\textbf{v(k-1)=0})$\n",
    "\n",
    "$P_p(k) = A(k-1) P_m(k-1) A^T(k-1) +  L(k-1) Q(k-1) L^T(k-1)$"
   ]
  },
  {
   "cell_type": "markdown",
   "metadata": {},
   "source": [
    "### Step 2 (Measurement Update):\n",
    "$H(k) = \\frac{\\partial h_k}{\\partial x(k)} (\\hat{x}_p(k), \\textbf{w(k) = 0)}$\n",
    "\n",
    "$M(k) = \\frac{\\partial h_k}{\\partial w(k)} (\\hat{x}_p(k),\\textbf{ w(k) = 0})$\n",
    "\n",
    "$K(k) = P_p (k) H^T (k) [H(k) P_p(k) H^T(k) +  M(k) R(k) M^T(k)]^{-1}$\n",
    "\n",
    "$\\hat{x}_m (k) = \\hat{x}_p (k) + K(k) \\, ( z(k) - h_k(\\hat{x}_p (k), 0) )$\n",
    "\n",
    "$P_m (k) = (I-K(k) H(k)) \\, P_p(k)$"
   ]
  },
  {
   "cell_type": "markdown",
   "metadata": {},
   "source": [
    "## Specific System model\n",
    "### State\n",
    "$\\vec x = [ _W \\vec r_{WC}, _W \\vec{ \\dot{r}}_{WC}, _W \\vec q_{WC}, _W \\vec \\omega_{WC}, _W \\vec r_{WM_1}, _W \\vec q_{WM_1}, ..., _W \\vec r_{WM_n}, _W \\vec q_{WM_n}]^T$\n",
    "\n",
    "with:\n",
    "\n",
    "$_W \\vec r_{WC}$: Position of the robot in the world frame\n",
    "\n",
    "$_W \\dot{ \\vec{r}}_{WC}$: Velocity of the robot in the world frame\n",
    "\n",
    "$_W \\vec q_{WC}$: Attitude of the robot in the world frame\n",
    "\n",
    "$_W \\vec \\omega_{WC}$: Angular velocity of the robot in the world frame\n",
    "\n",
    "$_W \\vec r_{WM_i}$: Position of the marker $i$ in the world frame\n",
    "\n",
    "$_W \\vec q_{WM_i}$: Attitude of the marker $i$ in the world frame"
   ]
  },
  {
   "cell_type": "markdown",
   "metadata": {},
   "source": [
    "### System model (continuous)\n",
    "$q(x, u, v) = [_W\\dot{ \\vec{r}}_{WC}, _W\\ddot{ \\vec{r}}_{WC}, _W\\dot{ \\vec q}_{WC}, _W \\dot{ \\vec \\omega}_{WC}, _W \\dot{ \\vec r}_{WM_i}, _W \\dot{ \\vec q}_{WM_i}]^T$\n",
    "\n",
    "$_W\\dot{ \\vec{r}}_{WC} = _W\\omega_{WC} \\times _W\\vec r_{WC} + v_{r_{WC}}$ with $\\vec v_{r_{WC}} \\sim \\mathcal{N}(\\vec 0, Q_{r_{WC}})$\n",
    "\n",
    "$_W\\ddot{ \\vec{r}}_{WC} = _W\\vec \\omega_{WC} \\times _W\\vec v_{WC} + v_{\\dot{r}_{WC}}$ with $\\vec v_{r_{WC}} \\sim \\mathcal{N}(\\vec 0, Q_{\\dot{r}_{WC}})$\n",
    "\n",
    "$_W\\dot{ \\vec q}_{WC} = \\frac{1}{2} \\begin{pmatrix} 0 \\\\ _W\\vec \\omega_{WC} \\end{pmatrix} \\otimes _W\\vec q_{WC} + \\vec v_{q_{WC}}$ with $\\vec v_{q_{WC}} \\sim \\mathcal{N}(\\vec 0, Q_{q_{WC}})$\n",
    "\n",
    "$_W \\dot{ \\vec \\omega}_{WC} = \\vec{v}_{\\omega_{WC}}$ with $\\vec v_{\\omega_{WC}} \\sim \\mathcal{N}(\\vec 0, Q_{\\omega_{WC}})$\n",
    "\n",
    "$_W \\dot{ \\vec r}_{WM_i} = 0$\n",
    "\n",
    "$_W \\dot{ \\vec q}_{WM_i} = 0$"
   ]
  },
  {
   "cell_type": "markdown",
   "metadata": {},
   "source": [
    "### System model (discrete)\n",
    "$\\vec q_{k-1}(\\vec x(k-1), \\vec u(k-1), \\vec v(k-1)) = [_W \\vec{r}_{WC}(k), _W\\dot{ \\vec{r}}_{WC}(k), _W\\vec q_{WC}(k), _W\\vec \\omega_{WC}(k), _W\\vec r_{WM_i}(k), _W \\vec q_{WM_i}(k)]^T$\n",
    "\n",
    "$_W \\vec{r}_{WC}(k) = _W \\vec{r}_{WC}(k-1) + \\Delta t \\big( _W\\dot{\\vec r}_{WC}(k-1) + _W\\omega_{WC}(k-1) \\times _W\\vec r_{WC}(k-1) \\big) + v_{r_{WC}}(k-1)$ with $\\vec v_{r_{WC}}(k-1) \\sim \\mathcal{N}(\\vec 0, Q_{r_{WC}}(k-1))$\n",
    "\n",
    "$_W\\dot{ \\vec{r}}_{WC}(k) = _W\\dot{ \\vec{r}}_{WC}(k-1) + \\Delta t \\big( _W\\vec \\omega_{WC}(k-1) \\times _W\\vec v_{WC}(k-1) \\big) + v_{\\dot{r}_{WC}}(k-1)$ with $\\vec v_{r_{WC}(k-1)} \\sim \\mathcal{N}(\\vec 0, Q_{\\dot{r}_{WC}}(k-1))$\n",
    "\n",
    "$_W\\vec q_{WC}(k) = _W\\vec q_{WC}(k-1) + \\Delta t \\Bigg( \\frac{1}{2} \\begin{pmatrix} 0 \\\\ _W\\vec \\omega_{WC}(k-1) \\end{pmatrix} \\otimes _W\\vec q_{WC}(k-1) \\Bigg) + \\vec v_{q_{WC}}(k-1)$ with $\\vec v_{q_{WC}}(k-1) \\sim \\mathcal{N}(\\vec 0, Q_{q_{WC}}(k-1))$\n",
    "\n",
    "$_W\\vec \\omega_{WC}(k) = _W\\vec \\omega_{WC}(k-1) + \\vec{v}_{\\omega_{WC}}(k-1)$ with $\\vec v_{\\omega_{WC}}(k-1) \\sim \\mathcal{N}(\\vec 0, Q_{\\omega_{WC}}(k-1))$\n",
    "\n",
    "$_W\\vec r_{WM_i}(k) = _W\\vec r_{WM_i}(k-1)$\n",
    "\n",
    "$_W\\vec q_{WM_i}(k) = _W \\vec q_{WM_i}(k-1)$"
   ]
  },
  {
   "cell_type": "markdown",
   "metadata": {
    "collapsed": true
   },
   "source": [
    "#### Scalar representation\n",
    "\n",
    "$_W\\vec{r}_{{WC}}(k) = \\begin{bmatrix} _Wr_{x_{WC}}(k) \\\\ _Wr_{y_{WC}}(k) \\\\ _Wr_{z_{WC}}(k) \\end{bmatrix} = \\begin{bmatrix} _Wr_{x_{WC}}(k-1) \\\\ _Wr_{y_{WC}}(k-1) \\\\ _Wr_{z_{WC}}(k-1) \\end{bmatrix} + \\Delta t \\Bigg( \\begin{bmatrix} _W\\dot{r}_{x_{WC}}(k-1) \\\\ _W\\dot{r}_{y_{WC}}(k-1) \\\\ _W\\dot{r}_{z_{WC}}(k-1) \\end{bmatrix} + \\begin{bmatrix} _W\\omega_{x_{WC}}(k-1) \\\\ _W\\omega_{y_{WC}}(k-1) \\\\ _W\\omega_{z_{WC}}(k-1) \\end{bmatrix} \\times \\begin{bmatrix} _Wr_{x_{WC}}(k-1) \\\\ _Wr_{y_{WC}}(k-1) \\\\ _Wr_{z_{WC}}(k-1) \\end{bmatrix} \\Bigg) + \\begin{bmatrix} v_{x_{r_{WC}}} \\\\ v_{y_{r_{WC}}} \\\\ v_{z_{r_{WC}}} \\end{bmatrix} = \\begin{bmatrix} _Wr_{x_{WC}}(k-1) \\\\ _Wr_{y_{WC}}(k-1) \\\\ _Wr_{z_{WC}}(k-1) \\end{bmatrix} + \\Delta t \\Bigg( \\begin{bmatrix} _W\\dot{r}_{x_{WC}}(k-1) \\\\ _W\\dot{r}_{y_{WC}}(k-1) \\\\ _W\\dot{r}_{z_{WC}}(k-1) \\end{bmatrix} + \\begin{bmatrix} _W\\omega_{y_{WC}}(k-1) \\cdot _Wr_{z_{WC}}(k-1) - _W\\omega_{z_{WC}}(k-1) \\cdot _Wr_{y_{WC}}(k-1) \\\\ _W\\omega_{z_{WC}}(k-1) \\cdot _Wr_{x_{WC}}(k-1) - _W\\omega_{x_{WC}}(k-1) \\cdot _Wr_{z_{WC}}(k-1) \\\\ _W\\omega_{x_{WC}}(k-1) \\cdot _Wr_{y_{WC}}(k-1) - _W\\omega_{y_{WC}}(k-1) \\cdot _Wr_{x_{WC}}(k-1) \\end{bmatrix} \\Bigg) + \\begin{bmatrix} v_{x_{r_{WC}}} \\\\ v_{y_{r_{WC}}} \\\\ v_{z_{r_{WC}}} \\end{bmatrix}$\n",
    "\n",
    "$_W\\dot{\\vec r}_{WC}(k) = \\begin{bmatrix} _W\\dot{r}_{x_{WC}}(k-1) \\\\ _W\\dot{r}_{y_{WC}}(k-1) \\\\ _W\\dot{r}_{z_{WC}}(k-1) \\end{bmatrix} + \\Delta t \\Bigg( \\begin{bmatrix} _W\\omega_{x_{WC}}(k-1) \\\\ _W\\omega_{y_{WC}}(k-1) \\\\ _W\\omega_{z_{WC}}(k-1) \\end{bmatrix} \\times \\begin{bmatrix} _W\\dot{r}_{x_{WC}}(k-1) \\\\ _W\\dot{r}_{y_{WC}}(k-1) \\\\ _W\\dot{r}_{z_{WC}}(k-1) \\end{bmatrix} \\Bigg) + \\begin{bmatrix} v_{x_{\\dot{r}_{WC}}} \\\\ v_{y_{\\dot{r}_{WC}}} \\\\ v_{z_{\\dot{r}_{WC}}} \\end{bmatrix} = \\begin{bmatrix} _W\\dot{r}_{x_{WC}}(k-1) \\\\ _W\\dot{r}_{y_{WC}}(k-1) \\\\ _W\\dot{r}_{z_{WC}}(k-1) \\end{bmatrix} +  \\Delta t \\begin{bmatrix} _W\\omega_{y_{WC}}(k-1) \\cdot _W\\dot{r}_{z_{WC}}(k-1) - _W\\omega_{z_{WC}}(k-1) \\cdot _W\\dot{r}_{y_{WC}}(k-1) \\\\ _W\\omega_{z_{WC}}(k-1) \\cdot _W\\dot{r}_{x_{WC}}(k-1) - _W\\omega_{x_{WC}}(k-1) \\cdot _W\\dot{r}_{z_{WC}}(k-1) \\\\ _W\\omega_{x_{WC}}(k-1) \\cdot _W\\dot{r}_{y_{WC}}(k-1) - _W\\omega_{y_{WC}}(k-1) \\cdot _W\\dot{r}_{x_{WC}}(k-1) \\end{bmatrix} + \\begin{bmatrix} v_{x_{\\dot{r}_{WC}}} \\\\ v_{y_{\\dot{r}_{WC}}} \\\\ v_{z_{\\dot{r}_{WC}}} \\end{bmatrix}$\n",
    "\n",
    "$_W\\vec{q}_{WC}(k) = \\begin{bmatrix} _Wq_{0_{WC}}(k) \\\\ _Wq_{1_{WC}}(k) \\\\ _Wq_{2_{WC}}(k) \\\\ _Wq_{3_{WC}}(k) \\end{bmatrix} = \\frac{1}{2} \\begin{bmatrix} 0 \\\\ _W\\omega_{x_{WC}}(k-1) \\\\ _W\\omega_{y_{WC}}(k-1) \\\\ _W\\omega_{z_{WC}}(k-1) \\end{bmatrix} \\otimes \\begin{bmatrix} _Wq_{0_{WC}}(k-1) \\\\ _Wq_{1_{WC}}(k-1) \\\\ _Wq_{2_{WC}}(k-1) \\\\ _Wq_{3_{WC}}(k-1) \\end{bmatrix} + \\begin{bmatrix} v_{0_{WC}}(k-1) \\\\ v_{1_{WC}}(k-1) \\\\ v_{2_{WC}}(k-1) \\\\ v_{3_{WC}}(k-1) \\end{bmatrix} = \\frac{1}{2} \\begin{bmatrix} 0 & -_W\\omega_{x_{WC}}(k-1) & -_W\\omega_{y_{WC}}(k-1) & -_W\\omega_{z_{WC}}(k-1) \\\\ _W\\omega_{x_{WC}}(k-1) & 0 & -_W\\omega_{z_{WC}}(k-1) & _W\\omega_{y_{WC}}(k-1) \\\\ _W\\omega_{y_{WC}}(k-1) & _W\\omega_{z_{WC}}(k-1) & 0 & -_W\\omega_{x_{WC}}(k-1) \\\\ _W\\omega_{z_{WC}}(k-1) & -_W\\omega_{y_{WC}}(k-1) & _W\\omega_{x_{WC}}(k-1) & 0 \\end{bmatrix} \\begin{bmatrix} _Wq_{0_{WC}}(k-1) \\\\ _Wq_{1_{WC}}(k-1) \\\\ _Wq_{2_{WC}}(k-1) \\\\ _Wq_{3_{WC}}(k-1) \\end{bmatrix} + \\begin{bmatrix} v_{0_{WC}}(k-1) \\\\ v_{1_{WC}}(k-1) \\\\ v_{2_{WC}}(k-1) \\\\ v_{3_{WC}}(k-1) \\end{bmatrix} = \\frac{1}{2} \\begin{bmatrix} -_W\\omega_{x_{WC}}(k-1) \\cdot _Wq_{1_{WC}}(k-1) - _W\\omega_{y_{WC}}(k-1) \\cdot _Wq_{2_{WC}}(k-1) - _W\\omega_{z_{WC}}(k-1) \\cdot _Wq_{3_{WC}}(k-1) \\\\ _W\\omega_{x_{WC}}(k-1) \\cdot _Wq_{0_{WC}}(k-1) - _W\\omega_{z_{WC}}(k-1) \\cdot _Wq_{2_{WC}}(k-1) + _W\\omega_{y_{WC}}(k-1) \\cdot _Wq_{3_{WC}}(k-1) \\\\ _W\\omega_{y_{WC}}(k-1) \\cdot _Wq_{0_{WC}}(k-1) + _W\\omega_{z_{WC}}(k-1) \\cdot _Wq_{1_{WC}}(k-1) - _W\\omega_{x_{WC}}(k-1) \\cdot _Wq_{3_{WC}}(k-1) \\\\ _W\\omega_{z_{WC}}(k-1) \\cdot _Wq_{0_{WC}}(k-1) - _W\\omega_{y_{WC}}(k-1) \\cdot _Wq_{1_{WC}}(k-1) + _W\\omega_{x_{WC}}(k-1) \\cdot _Wq_{2_{WC}}(k-1) \\end{bmatrix} + \\begin{bmatrix} v_{0_{WC}}(k-1) \\\\ v_{1_{WC}}(k-1) \\\\ v_{2_{WC}}(k-1) \\\\ v_{3_{WC}}(k-1) \\end{bmatrix}$"
   ]
  },
  {
   "cell_type": "markdown",
   "metadata": {},
   "source": [
    "### System Step 1 (Prior Update):\n",
    "$A(k-1) = \\frac{\\partial q_{k-1}}{\\partial x(k-1)} (\\hat{x}_m (k-1), u(k-1), \\textbf{v(k-1)=0})$\n",
    "\n",
    "$A(k-1) = \\begin{bmatrix} \\frac{\\partial _Wr_{x_{WC}}}{\\partial _Wr_{x_{WC}}} & ... & \\frac{\\partial _Wr_{x_{WC}}}{\\partial _Wr_{z_{WC}}} & \\frac{\\partial _Wr_{x_{WC}}}{\\partial _W\\dot{r}_{x_{WC}}} & ... & \\frac{\\partial _Wr_{x_{WC}}}{\\partial _W\\dot{r}_{z_{WC}}} & \\frac{\\partial _Wr_{x_{WC}}}{\\partial _Wq_{0_{WC}}} & ... & \\frac{\\partial _Wr_{x_{WC}}}{\\partial _Wq_{3_{WC}}} & \\frac{\\partial _Wr_{x_{WC}}}{\\partial _W\\omega_{x_{WC}}} & ... & \\frac{\\partial _Wr_{x_{WC}}}{\\partial _W\\omega_{z_{WC}}} & \\frac{\\partial _Wr_{x_{WC}}}{\\partial _Wr_{x_{WM_i}}} & ... & \\frac{\\partial _Wr_{x_{WC}}}{\\partial _Wr_{z_{WM_i}}} & \\frac{\\partial _Wr_{x_{WC}}}{\\partial _Wq_{0_{WM_i}}} & ... & \\frac{\\partial _Wr_{x_{WC}}}{\\partial _Wq_{3_{WM_i}}} \\\\\n",
    "\\frac{\\partial _Wr_{y_{WC}}}{\\partial _Wr_{x_{WC}}} & ... & \\frac{\\partial _Wr_{y_{WC}}}{\\partial _Wr_{z_{WC}}} & \\frac{\\partial _Wr_{y_{WC}}}{\\partial _W\\dot{r}_{x_{WC}}} & ... & \\frac{\\partial _Wr_{y_{WC}}}{\\partial _W\\dot{r}_{z_{WC}}} & \\frac{\\partial _Wr_{y_{WC}}}{\\partial _Wq_{0_{WC}}} & ... & \\frac{\\partial _Wr_{y_{WC}}}{\\partial _Wq_{3_{WC}}} & \\frac{\\partial _Wr_{y_{WC}}}{\\partial _W\\omega_{x_{WC}}} & ... & \\frac{\\partial _Wr_{y_{WC}}}{\\partial _W\\omega_{z_{WC}}} & \\frac{\\partial _Wr_{y_{WC}}}{\\partial _Wr_{x_{WM_i}}} & ... & \\frac{\\partial _Wr_{y_{WC}}}{\\partial _Wr_{z_{WM_i}}} & \\frac{\\partial _Wr_{y_{WC}}}{\\partial _Wq_{0_{WM_i}}} & ... & \\frac{\\partial _Wr_{y_{WC}}}{\\partial _Wq_{3_{WM_i}}} \\\\\n",
    "\\frac{\\partial _Wr_{z_{WC}}}{\\partial _Wr_{x_{WC}}} & ... & \\frac{\\partial _Wr_{z_{WC}}}{\\partial _Wr_{z_{WC}}} & \\frac{\\partial _Wr_{z_{WC}}}{\\partial _W\\dot{r}_{x_{WC}}} & ... & \\frac{\\partial _Wr_{z_{WC}}}{\\partial _W\\dot{r}_{z_{WC}}} & \\frac{\\partial _Wr_{z_{WC}}}{\\partial _Wq_{0_{WC}}} & ... & \\frac{\\partial _Wr_{z_{WC}}}{\\partial _Wq_{3_{WC}}} & \\frac{\\partial _Wr_{z_{WC}}}{\\partial _W\\omega_{x_{WC}}} & ... & \\frac{\\partial _Wr_{z_{WC}}}{\\partial _W\\omega_{z_{WC}}} & \\frac{\\partial _Wr_{z_{WC}}}{\\partial _Wr_{x_{WM_i}}} & ... & \\frac{\\partial _Wr_{z_{WC}}}{\\partial _Wr_{z_{WM_i}}} & \\frac{\\partial _Wr_{z_{WC}}}{\\partial _Wq_{0_{WM_i}}} & ... & \\frac{\\partial _Wr_{z_{WC}}}{\\partial _Wq_{3_{WM_i}}} \\\\\n",
    "\\frac{\\partial _W\\dot{r}_{x_{WC}}}{\\partial _Wr_{x_{WC}}} & ... & \\frac{\\partial _W\\dot{r}_{x_{WC}}}{\\partial _Wr_{z_{WC}}} & \\frac{\\partial _W\\dot{r}_{x_{WC}}}{\\partial _W\\dot{r}_{x_{WC}}} & ... & \\frac{\\partial _W\\dot{r}_{x_{WC}}}{\\partial _W\\dot{r}_{z_{WC}}} & \\frac{\\partial _W\\dot{r}_{x_{WC}}}{\\partial _Wq_{0_{WC}}} & ... & \\frac{\\partial _W\\dot{r}_{x_{WC}}}{\\partial _Wq_{3_{WC}}} & \\frac{\\partial _W\\dot{r}_{x_{WC}}}{\\partial _W\\omega_{x_{WC}}} & ... & \\frac{\\partial _W\\dot{r}_{x_{WC}}}{\\partial _W\\omega_{z_{WC}}} & \\frac{\\partial _W\\dot{r}_{x_{WC}}}{\\partial _Wr_{x_{WM_i}}} & ... & \\frac{\\partial _W\\dot{r}_{x_{WC}}}{\\partial _Wr_{z_{WM_i}}} & \\frac{\\partial _W\\dot{r}_{x_{WC}}}{\\partial _Wq_{0_{WM_i}}} & ... & \\frac{\\partial _W\\dot{r}_{x_{WC}}}{\\partial _Wq_{3_{WM_i}}} \\\\\n",
    "\\frac{\\partial _W\\dot{r}_{y_{WC}}}{\\partial _Wr_{x_{WC}}} & ... & \\frac{\\partial _W\\dot{r}_{y_{WC}}}{\\partial _Wr_{z_{WC}}} & \\frac{\\partial _W\\dot{r}_{y_{WC}}}{\\partial _W\\dot{r}_{x_{WC}}} & ... & \\frac{\\partial _W\\dot{r}_{y_{WC}}}{\\partial _W\\dot{r}_{z_{WC}}} & \\frac{\\partial _W\\dot{r}_{y_{WC}}}{\\partial _Wq_{0_{WC}}} & ... & \\frac{\\partial _W\\dot{r}_{y_{WC}}}{\\partial _Wq_{3_{WC}}} & \\frac{\\partial _W\\dot{r}_{y_{WC}}}{\\partial _W\\omega_{x_{WC}}} & ... & \\frac{\\partial _W\\dot{r}_{y_{WC}}}{\\partial _W\\omega_{z_{WC}}} & \\frac{\\partial _W\\dot{r}_{y_{WC}}}{\\partial _Wr_{x_{WM_i}}} & ... & \\frac{\\partial _W\\dot{r}_{y_{WC}}}{\\partial _Wr_{z_{WM_i}}} & \\frac{\\partial _W\\dot{r}_{y_{WC}}}{\\partial _Wq_{0_{WM_i}}} & ... & \\frac{\\partial _W\\dot{r}_{y_{WC}}}{\\partial _Wq_{3_{WM_i}}} \\\\\n",
    "\\frac{\\partial _W\\dot{r}_{z_{WC}}}{\\partial _Wr_{x_{WC}}} & ... & \\frac{\\partial _W\\dot{r}_{z_{WC}}}{\\partial _Wr_{z_{WC}}} & \\frac{\\partial _W\\dot{r}_{z_{WC}}}{\\partial _W\\dot{r}_{x_{WC}}} & ... & \\frac{\\partial _W\\dot{r}_{z_{WC}}}{\\partial _W\\dot{r}_{z_{WC}}} & \\frac{\\partial _W\\dot{r}_{z_{WC}}}{\\partial _Wq_{0_{WC}}} & ... & \\frac{\\partial _W\\dot{r}_{z_{WC}}}{\\partial _Wq_{3_{WC}}} & \\frac{\\partial _W\\dot{r}_{z_{WC}}}{\\partial _W\\omega_{x_{WC}}} & ... & \\frac{\\partial _W\\dot{r}_{z_{WC}}}{\\partial _W\\omega_{z_{WC}}} & \\frac{\\partial _W\\dot{r}_{z_{WC}}}{\\partial _Wr_{x_{WM_i}}} & ... & \\frac{\\partial _W\\dot{r}_{z_{WC}}}{\\partial _Wr_{z_{WM_i}}} & \\frac{\\partial _W\\dot{r}_{z_{WC}}}{\\partial _Wq_{0_{WM_i}}} & ... & \\frac{\\partial _W\\dot{r}_{z_{WC}}}{\\partial _Wq_{3_{WM_i}}} \\\\\n",
    "\\frac{\\partial _Wq_{0_{WC}}}{\\partial _Wr_{x_{WC}}} & ... & \\frac{\\partial _Wq_{0_{WC}}}{\\partial _Wr_{z_{WC}}} & \\frac{\\partial _Wq_{0_{WC}}}{\\partial _W\\dot{r}_{x_{WC}}} & ... & \\frac{\\partial _Wq_{0_{WC}}}{\\partial _W\\dot{r}_{z_{WC}}} & \\frac{\\partial _Wq_{0_{WC}}}{\\partial _Wq_{0_{WC}}} & ... & \\frac{\\partial _Wq_{0_{WC}}}{\\partial _Wq_{3_{WC}}} & \\frac{\\partial _Wq_{0_{WC}}}{\\partial _W\\omega_{x_{WC}}} & ... & \\frac{\\partial _Wq_{0_{WC}}}{\\partial _W\\omega_{z_{WC}}} & \\frac{\\partial _Wq_{0_{WC}}}{\\partial _Wr_{x_{WM_i}}} & ... & \\frac{\\partial _Wq_{0_{WC}}}{\\partial _Wr_{z_{WM_i}}} & \\frac{\\partial _Wq_{0_{WC}}}{\\partial _Wq_{0_{WM_i}}} & ... & \\frac{\\partial _Wq_{0_{WC}}}{\\partial _Wq_{3_{WM_i}}} \\\\\n",
    "\\frac{\\partial _Wq_{1_{WC}}}{\\partial _Wr_{x_{WC}}} & ... & \\frac{\\partial _Wq_{1_{WC}}}{\\partial _Wr_{z_{WC}}} & \\frac{\\partial _Wq_{1_{WC}}}{\\partial _W\\dot{r}_{x_{WC}}} & ... & \\frac{\\partial _Wq_{1_{WC}}}{\\partial _W\\dot{r}_{z_{WC}}} & \\frac{\\partial _Wq_{1_{WC}}}{\\partial _Wq_{0_{WC}}} & ... & \\frac{\\partial _Wq_{1_{WC}}}{\\partial _Wq_{3_{WC}}} & \\frac{\\partial _Wq_{1_{WC}}}{\\partial _W\\omega_{x_{WC}}} & ... & \\frac{\\partial _Wq_{1_{WC}}}{\\partial _W\\omega_{z_{WC}}} & \\frac{\\partial _Wq_{1_{WC}}}{\\partial _Wr_{x_{WM_i}}} & ... & \\frac{\\partial _Wq_{1_{WC}}}{\\partial _Wr_{z_{WM_i}}} & \\frac{\\partial _Wq_{1_{WC}}}{\\partial _Wq_{0_{WM_i}}} & ... & \\frac{\\partial _Wq_{1_{WC}}}{\\partial _Wq_{3_{WM_i}}} \\\\\n",
    "\\frac{\\partial _Wq_{2_{WC}}}{\\partial _Wr_{x_{WC}}} & ... & \\frac{\\partial _Wq_{2_{WC}}}{\\partial _Wr_{z_{WC}}} & \\frac{\\partial _Wq_{2_{WC}}}{\\partial _W\\dot{r}_{x_{WC}}} & ... & \\frac{\\partial _Wq_{2_{WC}}}{\\partial _W\\dot{r}_{z_{WC}}} & \\frac{\\partial _Wq_{2_{WC}}}{\\partial _Wq_{0_{WC}}} & ... & \\frac{\\partial _Wq_{2_{WC}}}{\\partial _Wq_{3_{WC}}} & \\frac{\\partial _Wq_{2_{WC}}}{\\partial _W\\omega_{x_{WC}}} & ... & \\frac{\\partial _Wq_{2_{WC}}}{\\partial _W\\omega_{z_{WC}}} & \\frac{\\partial _Wq_{2_{WC}}}{\\partial _Wr_{x_{WM_i}}} & ... & \\frac{\\partial _Wq_{2_{WC}}}{\\partial _Wr_{z_{WM_i}}} & \\frac{\\partial _Wq_{2_{WC}}}{\\partial _Wq_{0_{WM_i}}} & ... & \\frac{\\partial _Wq_{2_{WC}}}{\\partial _Wq_{3_{WM_i}}} \\\\\n",
    "\\frac{\\partial _Wq_{3_{WC}}}{\\partial _Wr_{x_{WC}}} & ... & \\frac{\\partial _Wq_{3_{WC}}}{\\partial _Wr_{z_{WC}}} & \\frac{\\partial _Wq_{3_{WC}}}{\\partial _W\\dot{r}_{x_{WC}}} & ... & \\frac{\\partial _Wq_{3_{WC}}}{\\partial _W\\dot{r}_{z_{WC}}} & \\frac{\\partial _Wq_{3_{WC}}}{\\partial _Wq_{0_{WC}}} & ... & \\frac{\\partial _Wq_{3_{WC}}}{\\partial _Wq_{3_{WC}}} & \\frac{\\partial _Wq_{3_{WC}}}{\\partial _W\\omega_{x_{WC}}} & ... & \\frac{\\partial _Wq_{3_{WC}}}{\\partial _W\\omega_{z_{WC}}} & \\frac{\\partial _Wq_{3_{WC}}}{\\partial _Wr_{x_{WM_i}}} & ... & \\frac{\\partial _Wq_{3_{WC}}}{\\partial _Wr_{z_{WM_i}}} & \\frac{\\partial _Wq_{3_{WC}}}{\\partial _Wq_{0_{WM_i}}} & ... & \\frac{\\partial _Wq_{3_{WC}}}{\\partial _Wq_{3_{WM_i}}} \\\\\n",
    "\\frac{\\partial _W\\omega_{x_{WC}}}{\\partial _Wr_{x_{WC}}} & ... & \\frac{\\partial _W\\omega_{x_{WC}}}{\\partial _Wr_{z_{WC}}} & \\frac{\\partial _W\\omega_{x_{WC}}}{\\partial _W\\dot{r}_{x_{WC}}} & ... & \\frac{\\partial _W\\omega_{x_{WC}}}{\\partial _W\\dot{r}_{z_{WC}}} & \\frac{\\partial _W\\omega_{x_{WC}}}{\\partial _Wq_{0_{WC}}} & ... & \\frac{\\partial _W\\omega_{x_{WC}}}{\\partial _Wq_{3_{WC}}} & \\frac{\\partial _W\\omega_{x_{WC}}}{\\partial _W\\omega_{x_{WC}}} & ... & \\frac{\\partial _W\\omega_{x_{WC}}}{\\partial _W\\omega_{z_{WC}}} & \\frac{\\partial _W\\omega_{x_{WC}}}{\\partial _Wr_{x_{WM_i}}} & ... & \\frac{\\partial _W\\omega_{x_{WC}}}{\\partial _Wr_{z_{WM_i}}} & \\frac{\\partial _W\\omega_{x_{WC}}}{\\partial _Wq_{0_{WM_i}}} & ... & \\frac{\\partial _W\\omega_{x_{WC}}}{\\partial _Wq_{3_{WM_i}}} \\\\\n",
    "\\frac{\\partial _W\\omega_{y_{WC}}}{\\partial _Wr_{x_{WC}}} & ... & \\frac{\\partial _W\\omega_{y_{WC}}}{\\partial _Wr_{z_{WC}}} & \\frac{\\partial _W\\omega_{y_{WC}}}{\\partial _W\\dot{r}_{x_{WC}}} & ... & \\frac{\\partial _W\\omega_{y_{WC}}}{\\partial _W\\dot{r}_{z_{WC}}} & \\frac{\\partial _W\\omega_{y_{WC}}}{\\partial _Wq_{0_{WC}}} & ... & \\frac{\\partial _W\\omega_{y_{WC}}}{\\partial _Wq_{3_{WC}}} & \\frac{\\partial _W\\omega_{y_{WC}}}{\\partial _W\\omega_{x_{WC}}} & ... & \\frac{\\partial _W\\omega_{y_{WC}}}{\\partial _W\\omega_{z_{WC}}} & \\frac{\\partial _W\\omega_{y_{WC}}}{\\partial _Wr_{x_{WM_i}}} & ... & \\frac{\\partial _W\\omega_{y_{WC}}}{\\partial _Wr_{z_{WM_i}}} & \\frac{\\partial _W\\omega_{y_{WC}}}{\\partial _Wq_{0_{WM_i}}} & ... & \\frac{\\partial _W\\omega_{y_{WC}}}{\\partial _Wq_{3_{WM_i}}} \\\\\n",
    "\\frac{\\partial _W\\omega_{z_{WC}}}{\\partial _Wr_{x_{WC}}} & ... & \\frac{\\partial _W\\omega_{z_{WC}}}{\\partial _Wr_{z_{WC}}} & \\frac{\\partial _W\\omega_{z_{WC}}}{\\partial _W\\dot{r}_{x_{WC}}} & ... & \\frac{\\partial _W\\omega_{z_{WC}}}{\\partial _W\\dot{r}_{z_{WC}}} & \\frac{\\partial _W\\omega_{z_{WC}}}{\\partial _Wq_{0_{WC}}} & ... & \\frac{\\partial _W\\omega_{z_{WC}}}{\\partial _Wq_{3_{WC}}} & \\frac{\\partial _W\\omega_{z_{WC}}}{\\partial _W\\omega_{x_{WC}}} & ... & \\frac{\\partial _W\\omega_{z_{WC}}}{\\partial _W\\omega_{z_{WC}}} & \\frac{\\partial _W\\omega_{z_{WC}}}{\\partial _Wr_{x_{WM_i}}} & ... & \\frac{\\partial _W\\omega_{z_{WC}}}{\\partial _Wr_{z_{WM_i}}} & \\frac{\\partial _W\\omega_{z_{WC}}}{\\partial _Wq_{0_{WM_i}}} & ... & \\frac{\\partial _W\\omega_{z_{WC}}}{\\partial _Wq_{3_{WM_i}}} \\\\\n",
    "\\frac{\\partial _Wr_{x_{WM_i}}}{\\partial _Wr_{x_{WC}}} & ... & \\frac{\\partial _Wr_{x_{WM_i}}}{\\partial _Wr_{z_{WC}}} & \\frac{\\partial _Wr_{x_{WM_i}}}{\\partial _W\\dot{r}_{x_{WC}}} & ... & \\frac{\\partial _Wr_{x_{WM_i}}}{\\partial _W\\dot{r}_{z_{WC}}} & \\frac{\\partial _Wr_{x_{WM_i}}}{\\partial _Wq_{0_{WC}}} & ... & \\frac{\\partial _Wr_{x_{WM_i}}}{\\partial _Wq_{3_{WC}}} & \\frac{\\partial _Wr_{x_{WM_i}}}{\\partial _W\\omega_{x_{WC}}} & ... & \\frac{\\partial _Wr_{x_{WM_i}}}{\\partial _W\\omega_{z_{WC}}} & \\frac{\\partial _Wr_{x_{WM_i}}}{\\partial _Wr_{x_{WM_i}}} & ... & \\frac{\\partial _Wr_{x_{WM_i}}}{\\partial _Wr_{z_{WM_i}}} & \\frac{\\partial _Wr_{x_{WM_i}}}{\\partial _Wq_{0_{WM_i}}} & ... & \\frac{\\partial _Wr_{x_{WM_i}}}{\\partial _Wq_{3_{WM_i}}} \\\\\n",
    "\\frac{\\partial _Wr_{y_{WM_i}}}{\\partial _Wr_{x_{WC}}} & ... & \\frac{\\partial _Wr_{y_{WM_i}}}{\\partial _Wr_{z_{WC}}} & \\frac{\\partial _Wr_{y_{WM_i}}}{\\partial _W\\dot{r}_{x_{WC}}} & ... & \\frac{\\partial _Wr_{y_{WM_i}}}{\\partial _W\\dot{r}_{z_{WC}}} & \\frac{\\partial _Wr_{y_{WM_i}}}{\\partial _Wq_{0_{WC}}} & ... & \\frac{\\partial _Wr_{y_{WM_i}}}{\\partial _Wq_{3_{WC}}} & \\frac{\\partial _Wr_{y_{WM_i}}}{\\partial _W\\omega_{x_{WC}}} & ... & \\frac{\\partial _Wr_{y_{WM_i}}}{\\partial _W\\omega_{z_{WC}}} & \\frac{\\partial _Wr_{y_{WM_i}}}{\\partial _Wr_{x_{WM_i}}} & ... & \\frac{\\partial _Wr_{y_{WM_i}}}{\\partial _Wr_{z_{WM_i}}} & \\frac{\\partial _Wr_{y_{WM_i}}}{\\partial _Wq_{0_{WM_i}}} & ... & \\frac{\\partial _Wr_{y_{WM_i}}}{\\partial _Wq_{3_{WM_i}}} \\\\\n",
    "\\frac{\\partial _Wr_{z_{WM_i}}}{\\partial _Wr_{x_{WC}}} & ... & \\frac{\\partial _Wr_{z_{WM_i}}}{\\partial _Wr_{z_{WC}}} & \\frac{\\partial _Wr_{z_{WM_i}}}{\\partial _W\\dot{r}_{x_{WC}}} & ... & \\frac{\\partial _Wr_{z_{WM_i}}}{\\partial _W\\dot{r}_{z_{WC}}} & \\frac{\\partial _Wr_{z_{WM_i}}}{\\partial _Wq_{0_{WC}}} & ... & \\frac{\\partial _Wr_{z_{WM_i}}}{\\partial _Wq_{3_{WC}}} & \\frac{\\partial _Wr_{z_{WM_i}}}{\\partial _W\\omega_{x_{WC}}} & ... & \\frac{\\partial _Wr_{z_{WM_i}}}{\\partial _W\\omega_{z_{WC}}} & \\frac{\\partial _Wr_{z_{WM_i}}}{\\partial _Wr_{x_{WM_i}}} & ... & \\frac{\\partial _Wr_{z_{WM_i}}}{\\partial _Wr_{z_{WM_i}}} & \\frac{\\partial _Wr_{z_{WM_i}}}{\\partial _Wq_{0_{WM_i}}} & ... & \\frac{\\partial _Wr_{z_{WM_i}}}{\\partial _Wq_{3_{WM_i}}} \\\\\n",
    "\\frac{\\partial _Wq_{0_{WM_i}}}{\\partial _Wr_{x_{WC}}} & ... & \\frac{\\partial _Wq_{0_{WM_i}}}{\\partial _Wr_{z_{WC}}} & \\frac{\\partial _Wq_{0_{WM_i}}}{\\partial _W\\dot{r}_{x_{WC}}} & ... & \\frac{\\partial _Wq_{0_{WM_i}}}{\\partial _W\\dot{r}_{z_{WC}}} & \\frac{\\partial _Wq_{0_{WM_i}}}{\\partial _Wq_{0_{WC}}} & ... & \\frac{\\partial _Wq_{0_{WM_i}}}{\\partial _Wq_{3_{WC}}} & \\frac{\\partial _Wq_{0_{WM_i}}}{\\partial _W\\omega_{x_{WC}}} & ... & \\frac{\\partial _Wq_{0_{WM_i}}}{\\partial _W\\omega_{z_{WC}}} & \\frac{\\partial _Wq_{0_{WM_i}}}{\\partial _Wr_{x_{WM_i}}} & ... & \\frac{\\partial _Wq_{0_{WM_i}}}{\\partial _Wr_{z_{WM_i}}} & \\frac{\\partial _Wq_{0_{WM_i}}}{\\partial _Wq_{0_{WM_i}}} & ... & \\frac{\\partial _Wq_{0_{WM_i}}}{\\partial _Wq_{3_{WM_i}}} \\\\\n",
    "\\frac{\\partial _Wq_{1_{WM_i}}}{\\partial _Wr_{x_{WC}}} & ... & \\frac{\\partial _Wq_{1_{WM_i}}}{\\partial _Wr_{z_{WC}}} & \\frac{\\partial _Wq_{1_{WM_i}}}{\\partial _W\\dot{r}_{x_{WC}}} & ... & \\frac{\\partial _Wq_{1_{WM_i}}}{\\partial _W\\dot{r}_{z_{WC}}} & \\frac{\\partial _Wq_{1_{WM_i}}}{\\partial _Wq_{0_{WC}}} & ... & \\frac{\\partial _Wq_{1_{WM_i}}}{\\partial _Wq_{3_{WC}}} & \\frac{\\partial _Wq_{1_{WM_i}}}{\\partial _W\\omega_{x_{WC}}} & ... & \\frac{\\partial _Wq_{1_{WM_i}}}{\\partial _W\\omega_{z_{WC}}} & \\frac{\\partial _Wq_{1_{WM_i}}}{\\partial _Wr_{x_{WM_i}}} & ... & \\frac{\\partial _Wq_{1_{WM_i}}}{\\partial _Wr_{z_{WM_i}}} & \\frac{\\partial _Wq_{1_{WM_i}}}{\\partial _Wq_{0_{WM_i}}} & ... & \\frac{\\partial _Wq_{1_{WM_i}}}{\\partial _Wq_{3_{WM_i}}} \\\\\n",
    "\\frac{\\partial _Wq_{2_{WM_i}}}{\\partial _Wr_{x_{WC}}} & ... & \\frac{\\partial _Wq_{2_{WM_i}}}{\\partial _Wr_{z_{WC}}} & \\frac{\\partial _Wq_{2_{WM_i}}}{\\partial _W\\dot{r}_{x_{WC}}} & ... & \\frac{\\partial _Wq_{2_{WM_i}}}{\\partial _W\\dot{r}_{z_{WC}}} & \\frac{\\partial _Wq_{2_{WM_i}}}{\\partial _Wq_{0_{WC}}} & ... & \\frac{\\partial _Wq_{2_{WM_i}}}{\\partial _Wq_{3_{WC}}} & \\frac{\\partial _Wq_{2_{WM_i}}}{\\partial _W\\omega_{x_{WC}}} & ... & \\frac{\\partial _Wq_{2_{WM_i}}}{\\partial _W\\omega_{z_{WC}}} & \\frac{\\partial _Wq_{2_{WM_i}}}{\\partial _Wr_{x_{WM_i}}} & ... & \\frac{\\partial _Wq_{2_{WM_i}}}{\\partial _Wr_{z_{WM_i}}} & \\frac{\\partial _Wq_{2_{WM_i}}}{\\partial _Wq_{0_{WM_i}}} & ... & \\frac{\\partial _Wq_{2_{WM_i}}}{\\partial _Wq_{3_{WM_i}}} \\\\\n",
    "\\frac{\\partial _Wq_{3_{WM_i}}}{\\partial _Wr_{x_{WC}}} & ... & \\frac{\\partial _Wq_{3_{WM_i}}}{\\partial _Wr_{z_{WC}}} & \\frac{\\partial _Wq_{3_{WM_i}}}{\\partial _W\\dot{r}_{x_{WC}}} & ... & \\frac{\\partial _Wq_{3_{WM_i}}}{\\partial _W\\dot{r}_{z_{WC}}} & \\frac{\\partial _Wq_{3_{WM_i}}}{\\partial _Wq_{0_{WC}}} & ... & \\frac{\\partial _Wq_{3_{WM_i}}}{\\partial _Wq_{3_{WC}}} & \\frac{\\partial _Wq_{3_{WM_i}}}{\\partial _W\\omega_{x_{WC}}} & ... & \\frac{\\partial _Wq_{3_{WM_i}}}{\\partial _W\\omega_{z_{WC}}} & \\frac{\\partial _Wq_{3_{WM_i}}}{\\partial _Wr_{x_{WM_i}}} & ... & \\frac{\\partial _Wq_{3_{WM_i}}}{\\partial _Wr_{z_{WM_i}}} & \\frac{\\partial _Wq_{3_{WM_i}}}{\\partial _Wq_{0_{WM_i}}} & ... & \\frac{\\partial _Wq_{3_{WM_i}}}{\\partial _Wq_{3_{WM_i}}}\n",
    "\\end{bmatrix}$\n",
    "\n",
    "$L(k-1) = \\frac{\\partial q_{k-1}}{\\partial v(k-1)} (\\hat{x}_m (k-1), u(k-1), \\textbf{v(k-1)=0}) = \\textit{diag}(Q_{r_{WC}},...,Q_{\\omega_{WC}}, 0_{3\\times3}, 0_{4\\times4})$"
   ]
  },
  {
   "cell_type": "markdown",
   "metadata": {},
   "source": [
    "### Specific Measurement Model\n",
    "\n",
    "$\\vec z = \\begin{bmatrix} \\vec h_1(\\vec x) \\\\ . \\\\ \\vec h_m(\\vec x) \\end{bmatrix}$ with $\\vec h_i(\\vec x) = \\begin{bmatrix} \\alpha_x \\frac{_Cr_{x_{Cc_0}}}{_Cr_{z_{Cc_0}}} + c_x + w_{r_{xz_0}}\\\\ \\alpha_y \\frac{_Cr_{y_{Cc_0}}}{_Cr_{z_{Cc_0}}} + c_y + w_{r_{yz_0}}\\\\ . \\\\ \\alpha_x \\frac{_Cr_{x_{Cc_3}}}{_Cr_{z_{Cc_3}}} + c_x + w_{r_{xz_3}} \\\\ \\alpha_y \\frac{_Cr_{y_{Cc_3}}}{_Cr_{z_{Cc_3}}} + c_y + w_{r_{yz_3}} \\end{bmatrix}$ and $_C\\vec r_{Cc_i} = R_{CW}(_W\\vec r_{Wc_i} - _W\\vec r_{WC})$, $\\vec w_{r_{\\{x,y\\}z_{\\{0...3\\}}}} \\sim \\mathcal{N}(\\vec 0, R_{r_{\\{x,y\\}z_{\\{0...3\\}}}})$"
   ]
  },
  {
   "cell_type": "markdown",
   "metadata": {},
   "source": [
    "### Symbolic derivation of the Jacobians ###"
   ]
  },
  {
   "cell_type": "code",
   "execution_count": 10,
   "metadata": {},
   "outputs": [
    {
     "name": "stdout",
     "output_type": "stream",
     "text": [
      "A = Matrix([[1, -delta_t*omega_z_wc, delta_t*omega_y_wc, delta_t, 0, 0, 0, 0, 0, 0, 0, delta_t*r_z_wc, -delta_t*r_y_wc, 0, 0, 0, 0, 0, 0, 0], [delta_t*omega_z_wc, 1, -delta_t*omega_x_wc, 0, delta_t, 0, 0, 0, 0, 0, -delta_t*r_z_wc, 0, delta_t*r_x_wc, 0, 0, 0, 0, 0, 0, 0], [-delta_t*omega_y_wc, delta_t*omega_x_wc, 1, 0, 0, delta_t, 0, 0, 0, 0, delta_t*r_y_wc, -delta_t*r_x_wc, 0, 0, 0, 0, 0, 0, 0, 0], [0, 0, 0, 1, -delta_t*omega_z_wc, delta_t*omega_y_wc, 0, 0, 0, 0, 0, delta_t*dr_z_wc, -delta_t*dr_y_wc, 0, 0, 0, 0, 0, 0, 0], [0, 0, 0, delta_t*omega_z_wc, 1, -delta_t*omega_x_wc, 0, 0, 0, 0, -delta_t*dr_z_wc, 0, delta_t*dr_x_wc, 0, 0, 0, 0, 0, 0, 0], [0, 0, 0, -delta_t*omega_y_wc, delta_t*omega_x_wc, 1, 0, 0, 0, 0, delta_t*dr_y_wc, -delta_t*dr_x_wc, 0, 0, 0, 0, 0, 0, 0, 0], [0, 0, 0, 0, 0, 0, 0, -0.5*omega_x_wc, -0.5*omega_y_wc, -0.5*omega_z_wc, -0.5*q_1_wc, -0.5*q_2_wc, -0.5*q_3_wc, 0, 0, 0, 0, 0, 0, 0], [0, 0, 0, 0, 0, 0, 0.5*omega_x_wc, 0, -0.5*omega_z_wc, 0.5*omega_y_wc, 0.5*q_0_wc, 0.5*q_3_wc, -0.5*q_2_wc, 0, 0, 0, 0, 0, 0, 0], [0, 0, 0, 0, 0, 0, 0.5*omega_y_wc, 0.5*omega_z_wc, 0, -0.5*omega_x_wc, -0.5*q_3_wc, 0.5*q_0_wc, 0.5*q_1_wc, 0, 0, 0, 0, 0, 0, 0], [0, 0, 0, 0, 0, 0, 0.5*omega_z_wc, -0.5*omega_y_wc, 0.5*omega_x_wc, 0, 0.5*q_2_wc, -0.5*q_1_wc, 0.5*q_0_wc, 0, 0, 0, 0, 0, 0, 0], [0, 0, 0, 0, 0, 0, 0, 0, 0, 0, 1, 0, 0, 0, 0, 0, 0, 0, 0, 0], [0, 0, 0, 0, 0, 0, 0, 0, 0, 0, 0, 1, 0, 0, 0, 0, 0, 0, 0, 0], [0, 0, 0, 0, 0, 0, 0, 0, 0, 0, 0, 0, 1, 0, 0, 0, 0, 0, 0, 0], [0, 0, 0, 0, 0, 0, 0, 0, 0, 0, 0, 0, 0, 1, 0, 0, 0, 0, 0, 0], [0, 0, 0, 0, 0, 0, 0, 0, 0, 0, 0, 0, 0, 0, 1, 0, 0, 0, 0, 0], [0, 0, 0, 0, 0, 0, 0, 0, 0, 0, 0, 0, 0, 0, 0, 1, 0, 0, 0, 0], [0, 0, 0, 0, 0, 0, 0, 0, 0, 0, 0, 0, 0, 0, 0, 0, 1, 0, 0, 0], [0, 0, 0, 0, 0, 0, 0, 0, 0, 0, 0, 0, 0, 0, 0, 0, 0, 1, 0, 0], [0, 0, 0, 0, 0, 0, 0, 0, 0, 0, 0, 0, 0, 0, 0, 0, 0, 0, 1, 0], [0, 0, 0, 0, 0, 0, 0, 0, 0, 0, 0, 0, 0, 0, 0, 0, 0, 0, 0, 1]])\n",
      "H = Matrix([[alpha_x*(2*q_0_wc*q_2_wc + 2*q_1_wc*q_3_wc)*((-r_x_wc + r_x_wc1)*(q_0_wc**2 + q_1_wc**2 - q_2_wc**2 - q_3_wc**2) + (-r_y_wc + r_y_wc1)*(2*q_0_wc*q_3_wc + 2*q_1_wc*q_2_wc) + (-r_z_wc + r_z_wc1)*(-2*q_0_wc*q_2_wc + 2*q_1_wc*q_3_wc))/((-r_x_wc + r_x_wc1)*(2*q_0_wc*q_2_wc + 2*q_1_wc*q_3_wc) + (-r_y_wc + r_y_wc1)*(-2*q_0_wc*q_1_wc + 2*q_2_wc*q_3_wc) + (-r_z_wc + r_z_wc1)*(q_0_wc**2 - q_1_wc**2 - q_2_wc**2 + q_3_wc**2))**2 + alpha_x*(-q_0_wc**2 - q_1_wc**2 + q_2_wc**2 + q_3_wc**2)/((-r_x_wc + r_x_wc1)*(2*q_0_wc*q_2_wc + 2*q_1_wc*q_3_wc) + (-r_y_wc + r_y_wc1)*(-2*q_0_wc*q_1_wc + 2*q_2_wc*q_3_wc) + (-r_z_wc + r_z_wc1)*(q_0_wc**2 - q_1_wc**2 - q_2_wc**2 + q_3_wc**2)), alpha_x*(-2*q_0_wc*q_1_wc + 2*q_2_wc*q_3_wc)*((-r_x_wc + r_x_wc1)*(q_0_wc**2 + q_1_wc**2 - q_2_wc**2 - q_3_wc**2) + (-r_y_wc + r_y_wc1)*(2*q_0_wc*q_3_wc + 2*q_1_wc*q_2_wc) + (-r_z_wc + r_z_wc1)*(-2*q_0_wc*q_2_wc + 2*q_1_wc*q_3_wc))/((-r_x_wc + r_x_wc1)*(2*q_0_wc*q_2_wc + 2*q_1_wc*q_3_wc) + (-r_y_wc + r_y_wc1)*(-2*q_0_wc*q_1_wc + 2*q_2_wc*q_3_wc) + (-r_z_wc + r_z_wc1)*(q_0_wc**2 - q_1_wc**2 - q_2_wc**2 + q_3_wc**2))**2 + alpha_x*(-2*q_0_wc*q_3_wc - 2*q_1_wc*q_2_wc)/((-r_x_wc + r_x_wc1)*(2*q_0_wc*q_2_wc + 2*q_1_wc*q_3_wc) + (-r_y_wc + r_y_wc1)*(-2*q_0_wc*q_1_wc + 2*q_2_wc*q_3_wc) + (-r_z_wc + r_z_wc1)*(q_0_wc**2 - q_1_wc**2 - q_2_wc**2 + q_3_wc**2)), alpha_x*(2*q_0_wc*q_2_wc - 2*q_1_wc*q_3_wc)/((-r_x_wc + r_x_wc1)*(2*q_0_wc*q_2_wc + 2*q_1_wc*q_3_wc) + (-r_y_wc + r_y_wc1)*(-2*q_0_wc*q_1_wc + 2*q_2_wc*q_3_wc) + (-r_z_wc + r_z_wc1)*(q_0_wc**2 - q_1_wc**2 - q_2_wc**2 + q_3_wc**2)) + alpha_x*((-r_x_wc + r_x_wc1)*(q_0_wc**2 + q_1_wc**2 - q_2_wc**2 - q_3_wc**2) + (-r_y_wc + r_y_wc1)*(2*q_0_wc*q_3_wc + 2*q_1_wc*q_2_wc) + (-r_z_wc + r_z_wc1)*(-2*q_0_wc*q_2_wc + 2*q_1_wc*q_3_wc))*(q_0_wc**2 - q_1_wc**2 - q_2_wc**2 + q_3_wc**2)/((-r_x_wc + r_x_wc1)*(2*q_0_wc*q_2_wc + 2*q_1_wc*q_3_wc) + (-r_y_wc + r_y_wc1)*(-2*q_0_wc*q_1_wc + 2*q_2_wc*q_3_wc) + (-r_z_wc + r_z_wc1)*(q_0_wc**2 - q_1_wc**2 - q_2_wc**2 + q_3_wc**2))**2, 0, 0, 0, alpha_x*(2*q_0_wc*(-r_x_wc + r_x_wc1) - 2*q_2_wc*(-r_z_wc + r_z_wc1) + 2*q_3_wc*(-r_y_wc + r_y_wc1))/((-r_x_wc + r_x_wc1)*(2*q_0_wc*q_2_wc + 2*q_1_wc*q_3_wc) + (-r_y_wc + r_y_wc1)*(-2*q_0_wc*q_1_wc + 2*q_2_wc*q_3_wc) + (-r_z_wc + r_z_wc1)*(q_0_wc**2 - q_1_wc**2 - q_2_wc**2 + q_3_wc**2)) + alpha_x*(-2*q_0_wc*(-r_z_wc + r_z_wc1) + 2*q_1_wc*(-r_y_wc + r_y_wc1) - 2*q_2_wc*(-r_x_wc + r_x_wc1))*((-r_x_wc + r_x_wc1)*(q_0_wc**2 + q_1_wc**2 - q_2_wc**2 - q_3_wc**2) + (-r_y_wc + r_y_wc1)*(2*q_0_wc*q_3_wc + 2*q_1_wc*q_2_wc) + (-r_z_wc + r_z_wc1)*(-2*q_0_wc*q_2_wc + 2*q_1_wc*q_3_wc))/((-r_x_wc + r_x_wc1)*(2*q_0_wc*q_2_wc + 2*q_1_wc*q_3_wc) + (-r_y_wc + r_y_wc1)*(-2*q_0_wc*q_1_wc + 2*q_2_wc*q_3_wc) + (-r_z_wc + r_z_wc1)*(q_0_wc**2 - q_1_wc**2 - q_2_wc**2 + q_3_wc**2))**2, alpha_x*(2*q_0_wc*(-r_y_wc + r_y_wc1) + 2*q_1_wc*(-r_z_wc + r_z_wc1) - 2*q_3_wc*(-r_x_wc + r_x_wc1))*((-r_x_wc + r_x_wc1)*(q_0_wc**2 + q_1_wc**2 - q_2_wc**2 - q_3_wc**2) + (-r_y_wc + r_y_wc1)*(2*q_0_wc*q_3_wc + 2*q_1_wc*q_2_wc) + (-r_z_wc + r_z_wc1)*(-2*q_0_wc*q_2_wc + 2*q_1_wc*q_3_wc))/((-r_x_wc + r_x_wc1)*(2*q_0_wc*q_2_wc + 2*q_1_wc*q_3_wc) + (-r_y_wc + r_y_wc1)*(-2*q_0_wc*q_1_wc + 2*q_2_wc*q_3_wc) + (-r_z_wc + r_z_wc1)*(q_0_wc**2 - q_1_wc**2 - q_2_wc**2 + q_3_wc**2))**2 + alpha_x*(2*q_1_wc*(-r_x_wc + r_x_wc1) + 2*q_2_wc*(-r_y_wc + r_y_wc1) + 2*q_3_wc*(-r_z_wc + r_z_wc1))/((-r_x_wc + r_x_wc1)*(2*q_0_wc*q_2_wc + 2*q_1_wc*q_3_wc) + (-r_y_wc + r_y_wc1)*(-2*q_0_wc*q_1_wc + 2*q_2_wc*q_3_wc) + (-r_z_wc + r_z_wc1)*(q_0_wc**2 - q_1_wc**2 - q_2_wc**2 + q_3_wc**2)), alpha_x*(-2*q_0_wc*(-r_x_wc + r_x_wc1) + 2*q_2_wc*(-r_z_wc + r_z_wc1) - 2*q_3_wc*(-r_y_wc + r_y_wc1))*((-r_x_wc + r_x_wc1)*(q_0_wc**2 + q_1_wc**2 - q_2_wc**2 - q_3_wc**2) + (-r_y_wc + r_y_wc1)*(2*q_0_wc*q_3_wc + 2*q_1_wc*q_2_wc) + (-r_z_wc + r_z_wc1)*(-2*q_0_wc*q_2_wc + 2*q_1_wc*q_3_wc))/((-r_x_wc + r_x_wc1)*(2*q_0_wc*q_2_wc + 2*q_1_wc*q_3_wc) + (-r_y_wc + r_y_wc1)*(-2*q_0_wc*q_1_wc + 2*q_2_wc*q_3_wc) + (-r_z_wc + r_z_wc1)*(q_0_wc**2 - q_1_wc**2 - q_2_wc**2 + q_3_wc**2))**2 + alpha_x*(-2*q_0_wc*(-r_z_wc + r_z_wc1) + 2*q_1_wc*(-r_y_wc + r_y_wc1) - 2*q_2_wc*(-r_x_wc + r_x_wc1))/((-r_x_wc + r_x_wc1)*(2*q_0_wc*q_2_wc + 2*q_1_wc*q_3_wc) + (-r_y_wc + r_y_wc1)*(-2*q_0_wc*q_1_wc + 2*q_2_wc*q_3_wc) + (-r_z_wc + r_z_wc1)*(q_0_wc**2 - q_1_wc**2 - q_2_wc**2 + q_3_wc**2)), alpha_x*(2*q_0_wc*(-r_y_wc + r_y_wc1) + 2*q_1_wc*(-r_z_wc + r_z_wc1) - 2*q_3_wc*(-r_x_wc + r_x_wc1))/((-r_x_wc + r_x_wc1)*(2*q_0_wc*q_2_wc + 2*q_1_wc*q_3_wc) + (-r_y_wc + r_y_wc1)*(-2*q_0_wc*q_1_wc + 2*q_2_wc*q_3_wc) + (-r_z_wc + r_z_wc1)*(q_0_wc**2 - q_1_wc**2 - q_2_wc**2 + q_3_wc**2)) + alpha_x*(-2*q_1_wc*(-r_x_wc + r_x_wc1) - 2*q_2_wc*(-r_y_wc + r_y_wc1) - 2*q_3_wc*(-r_z_wc + r_z_wc1))*((-r_x_wc + r_x_wc1)*(q_0_wc**2 + q_1_wc**2 - q_2_wc**2 - q_3_wc**2) + (-r_y_wc + r_y_wc1)*(2*q_0_wc*q_3_wc + 2*q_1_wc*q_2_wc) + (-r_z_wc + r_z_wc1)*(-2*q_0_wc*q_2_wc + 2*q_1_wc*q_3_wc))/((-r_x_wc + r_x_wc1)*(2*q_0_wc*q_2_wc + 2*q_1_wc*q_3_wc) + (-r_y_wc + r_y_wc1)*(-2*q_0_wc*q_1_wc + 2*q_2_wc*q_3_wc) + (-r_z_wc + r_z_wc1)*(q_0_wc**2 - q_1_wc**2 - q_2_wc**2 + q_3_wc**2))**2, 0, 0, 0, 0, 0, 0, 0, 0, 0, 0], [alpha_y*(2*q_0_wc*q_2_wc + 2*q_1_wc*q_3_wc)*((-r_x_wc + r_x_wc1)*(-2*q_0_wc*q_3_wc + 2*q_1_wc*q_2_wc) + (-r_y_wc + r_y_wc1)*(q_0_wc**2 - q_1_wc**2 + q_2_wc**2 - q_3_wc**2) + (-r_z_wc + r_z_wc1)*(2*q_0_wc*q_1_wc + 2*q_2_wc*q_3_wc))/((-r_x_wc + r_x_wc1)*(2*q_0_wc*q_2_wc + 2*q_1_wc*q_3_wc) + (-r_y_wc + r_y_wc1)*(-2*q_0_wc*q_1_wc + 2*q_2_wc*q_3_wc) + (-r_z_wc + r_z_wc1)*(q_0_wc**2 - q_1_wc**2 - q_2_wc**2 + q_3_wc**2))**2 + alpha_y*(2*q_0_wc*q_3_wc - 2*q_1_wc*q_2_wc)/((-r_x_wc + r_x_wc1)*(2*q_0_wc*q_2_wc + 2*q_1_wc*q_3_wc) + (-r_y_wc + r_y_wc1)*(-2*q_0_wc*q_1_wc + 2*q_2_wc*q_3_wc) + (-r_z_wc + r_z_wc1)*(q_0_wc**2 - q_1_wc**2 - q_2_wc**2 + q_3_wc**2)), alpha_y*(-2*q_0_wc*q_1_wc + 2*q_2_wc*q_3_wc)*((-r_x_wc + r_x_wc1)*(-2*q_0_wc*q_3_wc + 2*q_1_wc*q_2_wc) + (-r_y_wc + r_y_wc1)*(q_0_wc**2 - q_1_wc**2 + q_2_wc**2 - q_3_wc**2) + (-r_z_wc + r_z_wc1)*(2*q_0_wc*q_1_wc + 2*q_2_wc*q_3_wc))/((-r_x_wc + r_x_wc1)*(2*q_0_wc*q_2_wc + 2*q_1_wc*q_3_wc) + (-r_y_wc + r_y_wc1)*(-2*q_0_wc*q_1_wc + 2*q_2_wc*q_3_wc) + (-r_z_wc + r_z_wc1)*(q_0_wc**2 - q_1_wc**2 - q_2_wc**2 + q_3_wc**2))**2 + alpha_y*(-q_0_wc**2 + q_1_wc**2 - q_2_wc**2 + q_3_wc**2)/((-r_x_wc + r_x_wc1)*(2*q_0_wc*q_2_wc + 2*q_1_wc*q_3_wc) + (-r_y_wc + r_y_wc1)*(-2*q_0_wc*q_1_wc + 2*q_2_wc*q_3_wc) + (-r_z_wc + r_z_wc1)*(q_0_wc**2 - q_1_wc**2 - q_2_wc**2 + q_3_wc**2)), alpha_y*(-2*q_0_wc*q_1_wc - 2*q_2_wc*q_3_wc)/((-r_x_wc + r_x_wc1)*(2*q_0_wc*q_2_wc + 2*q_1_wc*q_3_wc) + (-r_y_wc + r_y_wc1)*(-2*q_0_wc*q_1_wc + 2*q_2_wc*q_3_wc) + (-r_z_wc + r_z_wc1)*(q_0_wc**2 - q_1_wc**2 - q_2_wc**2 + q_3_wc**2)) + alpha_y*((-r_x_wc + r_x_wc1)*(-2*q_0_wc*q_3_wc + 2*q_1_wc*q_2_wc) + (-r_y_wc + r_y_wc1)*(q_0_wc**2 - q_1_wc**2 + q_2_wc**2 - q_3_wc**2) + (-r_z_wc + r_z_wc1)*(2*q_0_wc*q_1_wc + 2*q_2_wc*q_3_wc))*(q_0_wc**2 - q_1_wc**2 - q_2_wc**2 + q_3_wc**2)/((-r_x_wc + r_x_wc1)*(2*q_0_wc*q_2_wc + 2*q_1_wc*q_3_wc) + (-r_y_wc + r_y_wc1)*(-2*q_0_wc*q_1_wc + 2*q_2_wc*q_3_wc) + (-r_z_wc + r_z_wc1)*(q_0_wc**2 - q_1_wc**2 - q_2_wc**2 + q_3_wc**2))**2, 0, 0, 0, alpha_y*(2*q_0_wc*(-r_y_wc + r_y_wc1) + 2*q_1_wc*(-r_z_wc + r_z_wc1) - 2*q_3_wc*(-r_x_wc + r_x_wc1))/((-r_x_wc + r_x_wc1)*(2*q_0_wc*q_2_wc + 2*q_1_wc*q_3_wc) + (-r_y_wc + r_y_wc1)*(-2*q_0_wc*q_1_wc + 2*q_2_wc*q_3_wc) + (-r_z_wc + r_z_wc1)*(q_0_wc**2 - q_1_wc**2 - q_2_wc**2 + q_3_wc**2)) + alpha_y*(-2*q_0_wc*(-r_z_wc + r_z_wc1) + 2*q_1_wc*(-r_y_wc + r_y_wc1) - 2*q_2_wc*(-r_x_wc + r_x_wc1))*((-r_x_wc + r_x_wc1)*(-2*q_0_wc*q_3_wc + 2*q_1_wc*q_2_wc) + (-r_y_wc + r_y_wc1)*(q_0_wc**2 - q_1_wc**2 + q_2_wc**2 - q_3_wc**2) + (-r_z_wc + r_z_wc1)*(2*q_0_wc*q_1_wc + 2*q_2_wc*q_3_wc))/((-r_x_wc + r_x_wc1)*(2*q_0_wc*q_2_wc + 2*q_1_wc*q_3_wc) + (-r_y_wc + r_y_wc1)*(-2*q_0_wc*q_1_wc + 2*q_2_wc*q_3_wc) + (-r_z_wc + r_z_wc1)*(q_0_wc**2 - q_1_wc**2 - q_2_wc**2 + q_3_wc**2))**2, alpha_y*(2*q_0_wc*(-r_y_wc + r_y_wc1) + 2*q_1_wc*(-r_z_wc + r_z_wc1) - 2*q_3_wc*(-r_x_wc + r_x_wc1))*((-r_x_wc + r_x_wc1)*(-2*q_0_wc*q_3_wc + 2*q_1_wc*q_2_wc) + (-r_y_wc + r_y_wc1)*(q_0_wc**2 - q_1_wc**2 + q_2_wc**2 - q_3_wc**2) + (-r_z_wc + r_z_wc1)*(2*q_0_wc*q_1_wc + 2*q_2_wc*q_3_wc))/((-r_x_wc + r_x_wc1)*(2*q_0_wc*q_2_wc + 2*q_1_wc*q_3_wc) + (-r_y_wc + r_y_wc1)*(-2*q_0_wc*q_1_wc + 2*q_2_wc*q_3_wc) + (-r_z_wc + r_z_wc1)*(q_0_wc**2 - q_1_wc**2 - q_2_wc**2 + q_3_wc**2))**2 + alpha_y*(2*q_0_wc*(-r_z_wc + r_z_wc1) - 2*q_1_wc*(-r_y_wc + r_y_wc1) + 2*q_2_wc*(-r_x_wc + r_x_wc1))/((-r_x_wc + r_x_wc1)*(2*q_0_wc*q_2_wc + 2*q_1_wc*q_3_wc) + (-r_y_wc + r_y_wc1)*(-2*q_0_wc*q_1_wc + 2*q_2_wc*q_3_wc) + (-r_z_wc + r_z_wc1)*(q_0_wc**2 - q_1_wc**2 - q_2_wc**2 + q_3_wc**2)), alpha_y*(-2*q_0_wc*(-r_x_wc + r_x_wc1) + 2*q_2_wc*(-r_z_wc + r_z_wc1) - 2*q_3_wc*(-r_y_wc + r_y_wc1))*((-r_x_wc + r_x_wc1)*(-2*q_0_wc*q_3_wc + 2*q_1_wc*q_2_wc) + (-r_y_wc + r_y_wc1)*(q_0_wc**2 - q_1_wc**2 + q_2_wc**2 - q_3_wc**2) + (-r_z_wc + r_z_wc1)*(2*q_0_wc*q_1_wc + 2*q_2_wc*q_3_wc))/((-r_x_wc + r_x_wc1)*(2*q_0_wc*q_2_wc + 2*q_1_wc*q_3_wc) + (-r_y_wc + r_y_wc1)*(-2*q_0_wc*q_1_wc + 2*q_2_wc*q_3_wc) + (-r_z_wc + r_z_wc1)*(q_0_wc**2 - q_1_wc**2 - q_2_wc**2 + q_3_wc**2))**2 + alpha_y*(2*q_1_wc*(-r_x_wc + r_x_wc1) + 2*q_2_wc*(-r_y_wc + r_y_wc1) + 2*q_3_wc*(-r_z_wc + r_z_wc1))/((-r_x_wc + r_x_wc1)*(2*q_0_wc*q_2_wc + 2*q_1_wc*q_3_wc) + (-r_y_wc + r_y_wc1)*(-2*q_0_wc*q_1_wc + 2*q_2_wc*q_3_wc) + (-r_z_wc + r_z_wc1)*(q_0_wc**2 - q_1_wc**2 - q_2_wc**2 + q_3_wc**2)), alpha_y*(-2*q_0_wc*(-r_x_wc + r_x_wc1) + 2*q_2_wc*(-r_z_wc + r_z_wc1) - 2*q_3_wc*(-r_y_wc + r_y_wc1))/((-r_x_wc + r_x_wc1)*(2*q_0_wc*q_2_wc + 2*q_1_wc*q_3_wc) + (-r_y_wc + r_y_wc1)*(-2*q_0_wc*q_1_wc + 2*q_2_wc*q_3_wc) + (-r_z_wc + r_z_wc1)*(q_0_wc**2 - q_1_wc**2 - q_2_wc**2 + q_3_wc**2)) + alpha_y*(-2*q_1_wc*(-r_x_wc + r_x_wc1) - 2*q_2_wc*(-r_y_wc + r_y_wc1) - 2*q_3_wc*(-r_z_wc + r_z_wc1))*((-r_x_wc + r_x_wc1)*(-2*q_0_wc*q_3_wc + 2*q_1_wc*q_2_wc) + (-r_y_wc + r_y_wc1)*(q_0_wc**2 - q_1_wc**2 + q_2_wc**2 - q_3_wc**2) + (-r_z_wc + r_z_wc1)*(2*q_0_wc*q_1_wc + 2*q_2_wc*q_3_wc))/((-r_x_wc + r_x_wc1)*(2*q_0_wc*q_2_wc + 2*q_1_wc*q_3_wc) + (-r_y_wc + r_y_wc1)*(-2*q_0_wc*q_1_wc + 2*q_2_wc*q_3_wc) + (-r_z_wc + r_z_wc1)*(q_0_wc**2 - q_1_wc**2 - q_2_wc**2 + q_3_wc**2))**2, 0, 0, 0, 0, 0, 0, 0, 0, 0, 0], [alpha_x*(2*q_0_wc*q_2_wc + 2*q_1_wc*q_3_wc)*((-r_x_wc + r_x_wc2)*(q_0_wc**2 + q_1_wc**2 - q_2_wc**2 - q_3_wc**2) + (-r_y_wc + r_y_wc2)*(2*q_0_wc*q_3_wc + 2*q_1_wc*q_2_wc) + (-r_z_wc + r_z_wc2)*(-2*q_0_wc*q_2_wc + 2*q_1_wc*q_3_wc))/((-r_x_wc + r_x_wc2)*(2*q_0_wc*q_2_wc + 2*q_1_wc*q_3_wc) + (-r_y_wc + r_y_wc2)*(-2*q_0_wc*q_1_wc + 2*q_2_wc*q_3_wc) + (-r_z_wc + r_z_wc2)*(q_0_wc**2 - q_1_wc**2 - q_2_wc**2 + q_3_wc**2))**2 + alpha_x*(-q_0_wc**2 - q_1_wc**2 + q_2_wc**2 + q_3_wc**2)/((-r_x_wc + r_x_wc2)*(2*q_0_wc*q_2_wc + 2*q_1_wc*q_3_wc) + (-r_y_wc + r_y_wc2)*(-2*q_0_wc*q_1_wc + 2*q_2_wc*q_3_wc) + (-r_z_wc + r_z_wc2)*(q_0_wc**2 - q_1_wc**2 - q_2_wc**2 + q_3_wc**2)), alpha_x*(-2*q_0_wc*q_1_wc + 2*q_2_wc*q_3_wc)*((-r_x_wc + r_x_wc2)*(q_0_wc**2 + q_1_wc**2 - q_2_wc**2 - q_3_wc**2) + (-r_y_wc + r_y_wc2)*(2*q_0_wc*q_3_wc + 2*q_1_wc*q_2_wc) + (-r_z_wc + r_z_wc2)*(-2*q_0_wc*q_2_wc + 2*q_1_wc*q_3_wc))/((-r_x_wc + r_x_wc2)*(2*q_0_wc*q_2_wc + 2*q_1_wc*q_3_wc) + (-r_y_wc + r_y_wc2)*(-2*q_0_wc*q_1_wc + 2*q_2_wc*q_3_wc) + (-r_z_wc + r_z_wc2)*(q_0_wc**2 - q_1_wc**2 - q_2_wc**2 + q_3_wc**2))**2 + alpha_x*(-2*q_0_wc*q_3_wc - 2*q_1_wc*q_2_wc)/((-r_x_wc + r_x_wc2)*(2*q_0_wc*q_2_wc + 2*q_1_wc*q_3_wc) + (-r_y_wc + r_y_wc2)*(-2*q_0_wc*q_1_wc + 2*q_2_wc*q_3_wc) + (-r_z_wc + r_z_wc2)*(q_0_wc**2 - q_1_wc**2 - q_2_wc**2 + q_3_wc**2)), alpha_x*(2*q_0_wc*q_2_wc - 2*q_1_wc*q_3_wc)/((-r_x_wc + r_x_wc2)*(2*q_0_wc*q_2_wc + 2*q_1_wc*q_3_wc) + (-r_y_wc + r_y_wc2)*(-2*q_0_wc*q_1_wc + 2*q_2_wc*q_3_wc) + (-r_z_wc + r_z_wc2)*(q_0_wc**2 - q_1_wc**2 - q_2_wc**2 + q_3_wc**2)) + alpha_x*((-r_x_wc + r_x_wc2)*(q_0_wc**2 + q_1_wc**2 - q_2_wc**2 - q_3_wc**2) + (-r_y_wc + r_y_wc2)*(2*q_0_wc*q_3_wc + 2*q_1_wc*q_2_wc) + (-r_z_wc + r_z_wc2)*(-2*q_0_wc*q_2_wc + 2*q_1_wc*q_3_wc))*(q_0_wc**2 - q_1_wc**2 - q_2_wc**2 + q_3_wc**2)/((-r_x_wc + r_x_wc2)*(2*q_0_wc*q_2_wc + 2*q_1_wc*q_3_wc) + (-r_y_wc + r_y_wc2)*(-2*q_0_wc*q_1_wc + 2*q_2_wc*q_3_wc) + (-r_z_wc + r_z_wc2)*(q_0_wc**2 - q_1_wc**2 - q_2_wc**2 + q_3_wc**2))**2, 0, 0, 0, alpha_x*(2*q_0_wc*(-r_x_wc + r_x_wc2) - 2*q_2_wc*(-r_z_wc + r_z_wc2) + 2*q_3_wc*(-r_y_wc + r_y_wc2))/((-r_x_wc + r_x_wc2)*(2*q_0_wc*q_2_wc + 2*q_1_wc*q_3_wc) + (-r_y_wc + r_y_wc2)*(-2*q_0_wc*q_1_wc + 2*q_2_wc*q_3_wc) + (-r_z_wc + r_z_wc2)*(q_0_wc**2 - q_1_wc**2 - q_2_wc**2 + q_3_wc**2)) + alpha_x*(-2*q_0_wc*(-r_z_wc + r_z_wc2) + 2*q_1_wc*(-r_y_wc + r_y_wc2) - 2*q_2_wc*(-r_x_wc + r_x_wc2))*((-r_x_wc + r_x_wc2)*(q_0_wc**2 + q_1_wc**2 - q_2_wc**2 - q_3_wc**2) + (-r_y_wc + r_y_wc2)*(2*q_0_wc*q_3_wc + 2*q_1_wc*q_2_wc) + (-r_z_wc + r_z_wc2)*(-2*q_0_wc*q_2_wc + 2*q_1_wc*q_3_wc))/((-r_x_wc + r_x_wc2)*(2*q_0_wc*q_2_wc + 2*q_1_wc*q_3_wc) + (-r_y_wc + r_y_wc2)*(-2*q_0_wc*q_1_wc + 2*q_2_wc*q_3_wc) + (-r_z_wc + r_z_wc2)*(q_0_wc**2 - q_1_wc**2 - q_2_wc**2 + q_3_wc**2))**2, alpha_x*(2*q_0_wc*(-r_y_wc + r_y_wc2) + 2*q_1_wc*(-r_z_wc + r_z_wc2) - 2*q_3_wc*(-r_x_wc + r_x_wc2))*((-r_x_wc + r_x_wc2)*(q_0_wc**2 + q_1_wc**2 - q_2_wc**2 - q_3_wc**2) + (-r_y_wc + r_y_wc2)*(2*q_0_wc*q_3_wc + 2*q_1_wc*q_2_wc) + (-r_z_wc + r_z_wc2)*(-2*q_0_wc*q_2_wc + 2*q_1_wc*q_3_wc))/((-r_x_wc + r_x_wc2)*(2*q_0_wc*q_2_wc + 2*q_1_wc*q_3_wc) + (-r_y_wc + r_y_wc2)*(-2*q_0_wc*q_1_wc + 2*q_2_wc*q_3_wc) + (-r_z_wc + r_z_wc2)*(q_0_wc**2 - q_1_wc**2 - q_2_wc**2 + q_3_wc**2))**2 + alpha_x*(2*q_1_wc*(-r_x_wc + r_x_wc2) + 2*q_2_wc*(-r_y_wc + r_y_wc2) + 2*q_3_wc*(-r_z_wc + r_z_wc2))/((-r_x_wc + r_x_wc2)*(2*q_0_wc*q_2_wc + 2*q_1_wc*q_3_wc) + (-r_y_wc + r_y_wc2)*(-2*q_0_wc*q_1_wc + 2*q_2_wc*q_3_wc) + (-r_z_wc + r_z_wc2)*(q_0_wc**2 - q_1_wc**2 - q_2_wc**2 + q_3_wc**2)), alpha_x*(-2*q_0_wc*(-r_x_wc + r_x_wc2) + 2*q_2_wc*(-r_z_wc + r_z_wc2) - 2*q_3_wc*(-r_y_wc + r_y_wc2))*((-r_x_wc + r_x_wc2)*(q_0_wc**2 + q_1_wc**2 - q_2_wc**2 - q_3_wc**2) + (-r_y_wc + r_y_wc2)*(2*q_0_wc*q_3_wc + 2*q_1_wc*q_2_wc) + (-r_z_wc + r_z_wc2)*(-2*q_0_wc*q_2_wc + 2*q_1_wc*q_3_wc))/((-r_x_wc + r_x_wc2)*(2*q_0_wc*q_2_wc + 2*q_1_wc*q_3_wc) + (-r_y_wc + r_y_wc2)*(-2*q_0_wc*q_1_wc + 2*q_2_wc*q_3_wc) + (-r_z_wc + r_z_wc2)*(q_0_wc**2 - q_1_wc**2 - q_2_wc**2 + q_3_wc**2))**2 + alpha_x*(-2*q_0_wc*(-r_z_wc + r_z_wc2) + 2*q_1_wc*(-r_y_wc + r_y_wc2) - 2*q_2_wc*(-r_x_wc + r_x_wc2))/((-r_x_wc + r_x_wc2)*(2*q_0_wc*q_2_wc + 2*q_1_wc*q_3_wc) + (-r_y_wc + r_y_wc2)*(-2*q_0_wc*q_1_wc + 2*q_2_wc*q_3_wc) + (-r_z_wc + r_z_wc2)*(q_0_wc**2 - q_1_wc**2 - q_2_wc**2 + q_3_wc**2)), alpha_x*(2*q_0_wc*(-r_y_wc + r_y_wc2) + 2*q_1_wc*(-r_z_wc + r_z_wc2) - 2*q_3_wc*(-r_x_wc + r_x_wc2))/((-r_x_wc + r_x_wc2)*(2*q_0_wc*q_2_wc + 2*q_1_wc*q_3_wc) + (-r_y_wc + r_y_wc2)*(-2*q_0_wc*q_1_wc + 2*q_2_wc*q_3_wc) + (-r_z_wc + r_z_wc2)*(q_0_wc**2 - q_1_wc**2 - q_2_wc**2 + q_3_wc**2)) + alpha_x*(-2*q_1_wc*(-r_x_wc + r_x_wc2) - 2*q_2_wc*(-r_y_wc + r_y_wc2) - 2*q_3_wc*(-r_z_wc + r_z_wc2))*((-r_x_wc + r_x_wc2)*(q_0_wc**2 + q_1_wc**2 - q_2_wc**2 - q_3_wc**2) + (-r_y_wc + r_y_wc2)*(2*q_0_wc*q_3_wc + 2*q_1_wc*q_2_wc) + (-r_z_wc + r_z_wc2)*(-2*q_0_wc*q_2_wc + 2*q_1_wc*q_3_wc))/((-r_x_wc + r_x_wc2)*(2*q_0_wc*q_2_wc + 2*q_1_wc*q_3_wc) + (-r_y_wc + r_y_wc2)*(-2*q_0_wc*q_1_wc + 2*q_2_wc*q_3_wc) + (-r_z_wc + r_z_wc2)*(q_0_wc**2 - q_1_wc**2 - q_2_wc**2 + q_3_wc**2))**2, 0, 0, 0, 0, 0, 0, 0, 0, 0, 0], [alpha_y*(2*q_0_wc*q_2_wc + 2*q_1_wc*q_3_wc)*((-r_x_wc + r_x_wc2)*(-2*q_0_wc*q_3_wc + 2*q_1_wc*q_2_wc) + (-r_y_wc + r_y_wc2)*(q_0_wc**2 - q_1_wc**2 + q_2_wc**2 - q_3_wc**2) + (-r_z_wc + r_z_wc2)*(2*q_0_wc*q_1_wc + 2*q_2_wc*q_3_wc))/((-r_x_wc + r_x_wc2)*(2*q_0_wc*q_2_wc + 2*q_1_wc*q_3_wc) + (-r_y_wc + r_y_wc2)*(-2*q_0_wc*q_1_wc + 2*q_2_wc*q_3_wc) + (-r_z_wc + r_z_wc2)*(q_0_wc**2 - q_1_wc**2 - q_2_wc**2 + q_3_wc**2))**2 + alpha_y*(2*q_0_wc*q_3_wc - 2*q_1_wc*q_2_wc)/((-r_x_wc + r_x_wc2)*(2*q_0_wc*q_2_wc + 2*q_1_wc*q_3_wc) + (-r_y_wc + r_y_wc2)*(-2*q_0_wc*q_1_wc + 2*q_2_wc*q_3_wc) + (-r_z_wc + r_z_wc2)*(q_0_wc**2 - q_1_wc**2 - q_2_wc**2 + q_3_wc**2)), alpha_y*(-2*q_0_wc*q_1_wc + 2*q_2_wc*q_3_wc)*((-r_x_wc + r_x_wc2)*(-2*q_0_wc*q_3_wc + 2*q_1_wc*q_2_wc) + (-r_y_wc + r_y_wc2)*(q_0_wc**2 - q_1_wc**2 + q_2_wc**2 - q_3_wc**2) + (-r_z_wc + r_z_wc2)*(2*q_0_wc*q_1_wc + 2*q_2_wc*q_3_wc))/((-r_x_wc + r_x_wc2)*(2*q_0_wc*q_2_wc + 2*q_1_wc*q_3_wc) + (-r_y_wc + r_y_wc2)*(-2*q_0_wc*q_1_wc + 2*q_2_wc*q_3_wc) + (-r_z_wc + r_z_wc2)*(q_0_wc**2 - q_1_wc**2 - q_2_wc**2 + q_3_wc**2))**2 + alpha_y*(-q_0_wc**2 + q_1_wc**2 - q_2_wc**2 + q_3_wc**2)/((-r_x_wc + r_x_wc2)*(2*q_0_wc*q_2_wc + 2*q_1_wc*q_3_wc) + (-r_y_wc + r_y_wc2)*(-2*q_0_wc*q_1_wc + 2*q_2_wc*q_3_wc) + (-r_z_wc + r_z_wc2)*(q_0_wc**2 - q_1_wc**2 - q_2_wc**2 + q_3_wc**2)), alpha_y*(-2*q_0_wc*q_1_wc - 2*q_2_wc*q_3_wc)/((-r_x_wc + r_x_wc2)*(2*q_0_wc*q_2_wc + 2*q_1_wc*q_3_wc) + (-r_y_wc + r_y_wc2)*(-2*q_0_wc*q_1_wc + 2*q_2_wc*q_3_wc) + (-r_z_wc + r_z_wc2)*(q_0_wc**2 - q_1_wc**2 - q_2_wc**2 + q_3_wc**2)) + alpha_y*((-r_x_wc + r_x_wc2)*(-2*q_0_wc*q_3_wc + 2*q_1_wc*q_2_wc) + (-r_y_wc + r_y_wc2)*(q_0_wc**2 - q_1_wc**2 + q_2_wc**2 - q_3_wc**2) + (-r_z_wc + r_z_wc2)*(2*q_0_wc*q_1_wc + 2*q_2_wc*q_3_wc))*(q_0_wc**2 - q_1_wc**2 - q_2_wc**2 + q_3_wc**2)/((-r_x_wc + r_x_wc2)*(2*q_0_wc*q_2_wc + 2*q_1_wc*q_3_wc) + (-r_y_wc + r_y_wc2)*(-2*q_0_wc*q_1_wc + 2*q_2_wc*q_3_wc) + (-r_z_wc + r_z_wc2)*(q_0_wc**2 - q_1_wc**2 - q_2_wc**2 + q_3_wc**2))**2, 0, 0, 0, alpha_y*(2*q_0_wc*(-r_y_wc + r_y_wc2) + 2*q_1_wc*(-r_z_wc + r_z_wc2) - 2*q_3_wc*(-r_x_wc + r_x_wc2))/((-r_x_wc + r_x_wc2)*(2*q_0_wc*q_2_wc + 2*q_1_wc*q_3_wc) + (-r_y_wc + r_y_wc2)*(-2*q_0_wc*q_1_wc + 2*q_2_wc*q_3_wc) + (-r_z_wc + r_z_wc2)*(q_0_wc**2 - q_1_wc**2 - q_2_wc**2 + q_3_wc**2)) + alpha_y*(-2*q_0_wc*(-r_z_wc + r_z_wc2) + 2*q_1_wc*(-r_y_wc + r_y_wc2) - 2*q_2_wc*(-r_x_wc + r_x_wc2))*((-r_x_wc + r_x_wc2)*(-2*q_0_wc*q_3_wc + 2*q_1_wc*q_2_wc) + (-r_y_wc + r_y_wc2)*(q_0_wc**2 - q_1_wc**2 + q_2_wc**2 - q_3_wc**2) + (-r_z_wc + r_z_wc2)*(2*q_0_wc*q_1_wc + 2*q_2_wc*q_3_wc))/((-r_x_wc + r_x_wc2)*(2*q_0_wc*q_2_wc + 2*q_1_wc*q_3_wc) + (-r_y_wc + r_y_wc2)*(-2*q_0_wc*q_1_wc + 2*q_2_wc*q_3_wc) + (-r_z_wc + r_z_wc2)*(q_0_wc**2 - q_1_wc**2 - q_2_wc**2 + q_3_wc**2))**2, alpha_y*(2*q_0_wc*(-r_y_wc + r_y_wc2) + 2*q_1_wc*(-r_z_wc + r_z_wc2) - 2*q_3_wc*(-r_x_wc + r_x_wc2))*((-r_x_wc + r_x_wc2)*(-2*q_0_wc*q_3_wc + 2*q_1_wc*q_2_wc) + (-r_y_wc + r_y_wc2)*(q_0_wc**2 - q_1_wc**2 + q_2_wc**2 - q_3_wc**2) + (-r_z_wc + r_z_wc2)*(2*q_0_wc*q_1_wc + 2*q_2_wc*q_3_wc))/((-r_x_wc + r_x_wc2)*(2*q_0_wc*q_2_wc + 2*q_1_wc*q_3_wc) + (-r_y_wc + r_y_wc2)*(-2*q_0_wc*q_1_wc + 2*q_2_wc*q_3_wc) + (-r_z_wc + r_z_wc2)*(q_0_wc**2 - q_1_wc**2 - q_2_wc**2 + q_3_wc**2))**2 + alpha_y*(2*q_0_wc*(-r_z_wc + r_z_wc2) - 2*q_1_wc*(-r_y_wc + r_y_wc2) + 2*q_2_wc*(-r_x_wc + r_x_wc2))/((-r_x_wc + r_x_wc2)*(2*q_0_wc*q_2_wc + 2*q_1_wc*q_3_wc) + (-r_y_wc + r_y_wc2)*(-2*q_0_wc*q_1_wc + 2*q_2_wc*q_3_wc) + (-r_z_wc + r_z_wc2)*(q_0_wc**2 - q_1_wc**2 - q_2_wc**2 + q_3_wc**2)), alpha_y*(-2*q_0_wc*(-r_x_wc + r_x_wc2) + 2*q_2_wc*(-r_z_wc + r_z_wc2) - 2*q_3_wc*(-r_y_wc + r_y_wc2))*((-r_x_wc + r_x_wc2)*(-2*q_0_wc*q_3_wc + 2*q_1_wc*q_2_wc) + (-r_y_wc + r_y_wc2)*(q_0_wc**2 - q_1_wc**2 + q_2_wc**2 - q_3_wc**2) + (-r_z_wc + r_z_wc2)*(2*q_0_wc*q_1_wc + 2*q_2_wc*q_3_wc))/((-r_x_wc + r_x_wc2)*(2*q_0_wc*q_2_wc + 2*q_1_wc*q_3_wc) + (-r_y_wc + r_y_wc2)*(-2*q_0_wc*q_1_wc + 2*q_2_wc*q_3_wc) + (-r_z_wc + r_z_wc2)*(q_0_wc**2 - q_1_wc**2 - q_2_wc**2 + q_3_wc**2))**2 + alpha_y*(2*q_1_wc*(-r_x_wc + r_x_wc2) + 2*q_2_wc*(-r_y_wc + r_y_wc2) + 2*q_3_wc*(-r_z_wc + r_z_wc2))/((-r_x_wc + r_x_wc2)*(2*q_0_wc*q_2_wc + 2*q_1_wc*q_3_wc) + (-r_y_wc + r_y_wc2)*(-2*q_0_wc*q_1_wc + 2*q_2_wc*q_3_wc) + (-r_z_wc + r_z_wc2)*(q_0_wc**2 - q_1_wc**2 - q_2_wc**2 + q_3_wc**2)), alpha_y*(-2*q_0_wc*(-r_x_wc + r_x_wc2) + 2*q_2_wc*(-r_z_wc + r_z_wc2) - 2*q_3_wc*(-r_y_wc + r_y_wc2))/((-r_x_wc + r_x_wc2)*(2*q_0_wc*q_2_wc + 2*q_1_wc*q_3_wc) + (-r_y_wc + r_y_wc2)*(-2*q_0_wc*q_1_wc + 2*q_2_wc*q_3_wc) + (-r_z_wc + r_z_wc2)*(q_0_wc**2 - q_1_wc**2 - q_2_wc**2 + q_3_wc**2)) + alpha_y*(-2*q_1_wc*(-r_x_wc + r_x_wc2) - 2*q_2_wc*(-r_y_wc + r_y_wc2) - 2*q_3_wc*(-r_z_wc + r_z_wc2))*((-r_x_wc + r_x_wc2)*(-2*q_0_wc*q_3_wc + 2*q_1_wc*q_2_wc) + (-r_y_wc + r_y_wc2)*(q_0_wc**2 - q_1_wc**2 + q_2_wc**2 - q_3_wc**2) + (-r_z_wc + r_z_wc2)*(2*q_0_wc*q_1_wc + 2*q_2_wc*q_3_wc))/((-r_x_wc + r_x_wc2)*(2*q_0_wc*q_2_wc + 2*q_1_wc*q_3_wc) + (-r_y_wc + r_y_wc2)*(-2*q_0_wc*q_1_wc + 2*q_2_wc*q_3_wc) + (-r_z_wc + r_z_wc2)*(q_0_wc**2 - q_1_wc**2 - q_2_wc**2 + q_3_wc**2))**2, 0, 0, 0, 0, 0, 0, 0, 0, 0, 0], [alpha_x*(2*q_0_wc*q_2_wc + 2*q_1_wc*q_3_wc)*((-r_x_wc + r_x_wc3)*(q_0_wc**2 + q_1_wc**2 - q_2_wc**2 - q_3_wc**2) + (-r_y_wc + r_y_wc3)*(2*q_0_wc*q_3_wc + 2*q_1_wc*q_2_wc) + (-r_z_wc + r_z_wc3)*(-2*q_0_wc*q_2_wc + 2*q_1_wc*q_3_wc))/((-r_x_wc + r_x_wc3)*(2*q_0_wc*q_2_wc + 2*q_1_wc*q_3_wc) + (-r_y_wc + r_y_wc3)*(-2*q_0_wc*q_1_wc + 2*q_2_wc*q_3_wc) + (-r_z_wc + r_z_wc3)*(q_0_wc**2 - q_1_wc**2 - q_2_wc**2 + q_3_wc**2))**2 + alpha_x*(-q_0_wc**2 - q_1_wc**2 + q_2_wc**2 + q_3_wc**2)/((-r_x_wc + r_x_wc3)*(2*q_0_wc*q_2_wc + 2*q_1_wc*q_3_wc) + (-r_y_wc + r_y_wc3)*(-2*q_0_wc*q_1_wc + 2*q_2_wc*q_3_wc) + (-r_z_wc + r_z_wc3)*(q_0_wc**2 - q_1_wc**2 - q_2_wc**2 + q_3_wc**2)), alpha_x*(-2*q_0_wc*q_1_wc + 2*q_2_wc*q_3_wc)*((-r_x_wc + r_x_wc3)*(q_0_wc**2 + q_1_wc**2 - q_2_wc**2 - q_3_wc**2) + (-r_y_wc + r_y_wc3)*(2*q_0_wc*q_3_wc + 2*q_1_wc*q_2_wc) + (-r_z_wc + r_z_wc3)*(-2*q_0_wc*q_2_wc + 2*q_1_wc*q_3_wc))/((-r_x_wc + r_x_wc3)*(2*q_0_wc*q_2_wc + 2*q_1_wc*q_3_wc) + (-r_y_wc + r_y_wc3)*(-2*q_0_wc*q_1_wc + 2*q_2_wc*q_3_wc) + (-r_z_wc + r_z_wc3)*(q_0_wc**2 - q_1_wc**2 - q_2_wc**2 + q_3_wc**2))**2 + alpha_x*(-2*q_0_wc*q_3_wc - 2*q_1_wc*q_2_wc)/((-r_x_wc + r_x_wc3)*(2*q_0_wc*q_2_wc + 2*q_1_wc*q_3_wc) + (-r_y_wc + r_y_wc3)*(-2*q_0_wc*q_1_wc + 2*q_2_wc*q_3_wc) + (-r_z_wc + r_z_wc3)*(q_0_wc**2 - q_1_wc**2 - q_2_wc**2 + q_3_wc**2)), alpha_x*(2*q_0_wc*q_2_wc - 2*q_1_wc*q_3_wc)/((-r_x_wc + r_x_wc3)*(2*q_0_wc*q_2_wc + 2*q_1_wc*q_3_wc) + (-r_y_wc + r_y_wc3)*(-2*q_0_wc*q_1_wc + 2*q_2_wc*q_3_wc) + (-r_z_wc + r_z_wc3)*(q_0_wc**2 - q_1_wc**2 - q_2_wc**2 + q_3_wc**2)) + alpha_x*((-r_x_wc + r_x_wc3)*(q_0_wc**2 + q_1_wc**2 - q_2_wc**2 - q_3_wc**2) + (-r_y_wc + r_y_wc3)*(2*q_0_wc*q_3_wc + 2*q_1_wc*q_2_wc) + (-r_z_wc + r_z_wc3)*(-2*q_0_wc*q_2_wc + 2*q_1_wc*q_3_wc))*(q_0_wc**2 - q_1_wc**2 - q_2_wc**2 + q_3_wc**2)/((-r_x_wc + r_x_wc3)*(2*q_0_wc*q_2_wc + 2*q_1_wc*q_3_wc) + (-r_y_wc + r_y_wc3)*(-2*q_0_wc*q_1_wc + 2*q_2_wc*q_3_wc) + (-r_z_wc + r_z_wc3)*(q_0_wc**2 - q_1_wc**2 - q_2_wc**2 + q_3_wc**2))**2, 0, 0, 0, alpha_x*(2*q_0_wc*(-r_x_wc + r_x_wc3) - 2*q_2_wc*(-r_z_wc + r_z_wc3) + 2*q_3_wc*(-r_y_wc + r_y_wc3))/((-r_x_wc + r_x_wc3)*(2*q_0_wc*q_2_wc + 2*q_1_wc*q_3_wc) + (-r_y_wc + r_y_wc3)*(-2*q_0_wc*q_1_wc + 2*q_2_wc*q_3_wc) + (-r_z_wc + r_z_wc3)*(q_0_wc**2 - q_1_wc**2 - q_2_wc**2 + q_3_wc**2)) + alpha_x*(-2*q_0_wc*(-r_z_wc + r_z_wc3) + 2*q_1_wc*(-r_y_wc + r_y_wc3) - 2*q_2_wc*(-r_x_wc + r_x_wc3))*((-r_x_wc + r_x_wc3)*(q_0_wc**2 + q_1_wc**2 - q_2_wc**2 - q_3_wc**2) + (-r_y_wc + r_y_wc3)*(2*q_0_wc*q_3_wc + 2*q_1_wc*q_2_wc) + (-r_z_wc + r_z_wc3)*(-2*q_0_wc*q_2_wc + 2*q_1_wc*q_3_wc))/((-r_x_wc + r_x_wc3)*(2*q_0_wc*q_2_wc + 2*q_1_wc*q_3_wc) + (-r_y_wc + r_y_wc3)*(-2*q_0_wc*q_1_wc + 2*q_2_wc*q_3_wc) + (-r_z_wc + r_z_wc3)*(q_0_wc**2 - q_1_wc**2 - q_2_wc**2 + q_3_wc**2))**2, alpha_x*(2*q_0_wc*(-r_y_wc + r_y_wc3) + 2*q_1_wc*(-r_z_wc + r_z_wc3) - 2*q_3_wc*(-r_x_wc + r_x_wc3))*((-r_x_wc + r_x_wc3)*(q_0_wc**2 + q_1_wc**2 - q_2_wc**2 - q_3_wc**2) + (-r_y_wc + r_y_wc3)*(2*q_0_wc*q_3_wc + 2*q_1_wc*q_2_wc) + (-r_z_wc + r_z_wc3)*(-2*q_0_wc*q_2_wc + 2*q_1_wc*q_3_wc))/((-r_x_wc + r_x_wc3)*(2*q_0_wc*q_2_wc + 2*q_1_wc*q_3_wc) + (-r_y_wc + r_y_wc3)*(-2*q_0_wc*q_1_wc + 2*q_2_wc*q_3_wc) + (-r_z_wc + r_z_wc3)*(q_0_wc**2 - q_1_wc**2 - q_2_wc**2 + q_3_wc**2))**2 + alpha_x*(2*q_1_wc*(-r_x_wc + r_x_wc3) + 2*q_2_wc*(-r_y_wc + r_y_wc3) + 2*q_3_wc*(-r_z_wc + r_z_wc3))/((-r_x_wc + r_x_wc3)*(2*q_0_wc*q_2_wc + 2*q_1_wc*q_3_wc) + (-r_y_wc + r_y_wc3)*(-2*q_0_wc*q_1_wc + 2*q_2_wc*q_3_wc) + (-r_z_wc + r_z_wc3)*(q_0_wc**2 - q_1_wc**2 - q_2_wc**2 + q_3_wc**2)), alpha_x*(-2*q_0_wc*(-r_x_wc + r_x_wc3) + 2*q_2_wc*(-r_z_wc + r_z_wc3) - 2*q_3_wc*(-r_y_wc + r_y_wc3))*((-r_x_wc + r_x_wc3)*(q_0_wc**2 + q_1_wc**2 - q_2_wc**2 - q_3_wc**2) + (-r_y_wc + r_y_wc3)*(2*q_0_wc*q_3_wc + 2*q_1_wc*q_2_wc) + (-r_z_wc + r_z_wc3)*(-2*q_0_wc*q_2_wc + 2*q_1_wc*q_3_wc))/((-r_x_wc + r_x_wc3)*(2*q_0_wc*q_2_wc + 2*q_1_wc*q_3_wc) + (-r_y_wc + r_y_wc3)*(-2*q_0_wc*q_1_wc + 2*q_2_wc*q_3_wc) + (-r_z_wc + r_z_wc3)*(q_0_wc**2 - q_1_wc**2 - q_2_wc**2 + q_3_wc**2))**2 + alpha_x*(-2*q_0_wc*(-r_z_wc + r_z_wc3) + 2*q_1_wc*(-r_y_wc + r_y_wc3) - 2*q_2_wc*(-r_x_wc + r_x_wc3))/((-r_x_wc + r_x_wc3)*(2*q_0_wc*q_2_wc + 2*q_1_wc*q_3_wc) + (-r_y_wc + r_y_wc3)*(-2*q_0_wc*q_1_wc + 2*q_2_wc*q_3_wc) + (-r_z_wc + r_z_wc3)*(q_0_wc**2 - q_1_wc**2 - q_2_wc**2 + q_3_wc**2)), alpha_x*(2*q_0_wc*(-r_y_wc + r_y_wc3) + 2*q_1_wc*(-r_z_wc + r_z_wc3) - 2*q_3_wc*(-r_x_wc + r_x_wc3))/((-r_x_wc + r_x_wc3)*(2*q_0_wc*q_2_wc + 2*q_1_wc*q_3_wc) + (-r_y_wc + r_y_wc3)*(-2*q_0_wc*q_1_wc + 2*q_2_wc*q_3_wc) + (-r_z_wc + r_z_wc3)*(q_0_wc**2 - q_1_wc**2 - q_2_wc**2 + q_3_wc**2)) + alpha_x*(-2*q_1_wc*(-r_x_wc + r_x_wc3) - 2*q_2_wc*(-r_y_wc + r_y_wc3) - 2*q_3_wc*(-r_z_wc + r_z_wc3))*((-r_x_wc + r_x_wc3)*(q_0_wc**2 + q_1_wc**2 - q_2_wc**2 - q_3_wc**2) + (-r_y_wc + r_y_wc3)*(2*q_0_wc*q_3_wc + 2*q_1_wc*q_2_wc) + (-r_z_wc + r_z_wc3)*(-2*q_0_wc*q_2_wc + 2*q_1_wc*q_3_wc))/((-r_x_wc + r_x_wc3)*(2*q_0_wc*q_2_wc + 2*q_1_wc*q_3_wc) + (-r_y_wc + r_y_wc3)*(-2*q_0_wc*q_1_wc + 2*q_2_wc*q_3_wc) + (-r_z_wc + r_z_wc3)*(q_0_wc**2 - q_1_wc**2 - q_2_wc**2 + q_3_wc**2))**2, 0, 0, 0, 0, 0, 0, 0, 0, 0, 0], [alpha_y*(2*q_0_wc*q_2_wc + 2*q_1_wc*q_3_wc)*((-r_x_wc + r_x_wc3)*(-2*q_0_wc*q_3_wc + 2*q_1_wc*q_2_wc) + (-r_y_wc + r_y_wc3)*(q_0_wc**2 - q_1_wc**2 + q_2_wc**2 - q_3_wc**2) + (-r_z_wc + r_z_wc3)*(2*q_0_wc*q_1_wc + 2*q_2_wc*q_3_wc))/((-r_x_wc + r_x_wc3)*(2*q_0_wc*q_2_wc + 2*q_1_wc*q_3_wc) + (-r_y_wc + r_y_wc3)*(-2*q_0_wc*q_1_wc + 2*q_2_wc*q_3_wc) + (-r_z_wc + r_z_wc3)*(q_0_wc**2 - q_1_wc**2 - q_2_wc**2 + q_3_wc**2))**2 + alpha_y*(2*q_0_wc*q_3_wc - 2*q_1_wc*q_2_wc)/((-r_x_wc + r_x_wc3)*(2*q_0_wc*q_2_wc + 2*q_1_wc*q_3_wc) + (-r_y_wc + r_y_wc3)*(-2*q_0_wc*q_1_wc + 2*q_2_wc*q_3_wc) + (-r_z_wc + r_z_wc3)*(q_0_wc**2 - q_1_wc**2 - q_2_wc**2 + q_3_wc**2)), alpha_y*(-2*q_0_wc*q_1_wc + 2*q_2_wc*q_3_wc)*((-r_x_wc + r_x_wc3)*(-2*q_0_wc*q_3_wc + 2*q_1_wc*q_2_wc) + (-r_y_wc + r_y_wc3)*(q_0_wc**2 - q_1_wc**2 + q_2_wc**2 - q_3_wc**2) + (-r_z_wc + r_z_wc3)*(2*q_0_wc*q_1_wc + 2*q_2_wc*q_3_wc))/((-r_x_wc + r_x_wc3)*(2*q_0_wc*q_2_wc + 2*q_1_wc*q_3_wc) + (-r_y_wc + r_y_wc3)*(-2*q_0_wc*q_1_wc + 2*q_2_wc*q_3_wc) + (-r_z_wc + r_z_wc3)*(q_0_wc**2 - q_1_wc**2 - q_2_wc**2 + q_3_wc**2))**2 + alpha_y*(-q_0_wc**2 + q_1_wc**2 - q_2_wc**2 + q_3_wc**2)/((-r_x_wc + r_x_wc3)*(2*q_0_wc*q_2_wc + 2*q_1_wc*q_3_wc) + (-r_y_wc + r_y_wc3)*(-2*q_0_wc*q_1_wc + 2*q_2_wc*q_3_wc) + (-r_z_wc + r_z_wc3)*(q_0_wc**2 - q_1_wc**2 - q_2_wc**2 + q_3_wc**2)), alpha_y*(-2*q_0_wc*q_1_wc - 2*q_2_wc*q_3_wc)/((-r_x_wc + r_x_wc3)*(2*q_0_wc*q_2_wc + 2*q_1_wc*q_3_wc) + (-r_y_wc + r_y_wc3)*(-2*q_0_wc*q_1_wc + 2*q_2_wc*q_3_wc) + (-r_z_wc + r_z_wc3)*(q_0_wc**2 - q_1_wc**2 - q_2_wc**2 + q_3_wc**2)) + alpha_y*((-r_x_wc + r_x_wc3)*(-2*q_0_wc*q_3_wc + 2*q_1_wc*q_2_wc) + (-r_y_wc + r_y_wc3)*(q_0_wc**2 - q_1_wc**2 + q_2_wc**2 - q_3_wc**2) + (-r_z_wc + r_z_wc3)*(2*q_0_wc*q_1_wc + 2*q_2_wc*q_3_wc))*(q_0_wc**2 - q_1_wc**2 - q_2_wc**2 + q_3_wc**2)/((-r_x_wc + r_x_wc3)*(2*q_0_wc*q_2_wc + 2*q_1_wc*q_3_wc) + (-r_y_wc + r_y_wc3)*(-2*q_0_wc*q_1_wc + 2*q_2_wc*q_3_wc) + (-r_z_wc + r_z_wc3)*(q_0_wc**2 - q_1_wc**2 - q_2_wc**2 + q_3_wc**2))**2, 0, 0, 0, alpha_y*(2*q_0_wc*(-r_y_wc + r_y_wc3) + 2*q_1_wc*(-r_z_wc + r_z_wc3) - 2*q_3_wc*(-r_x_wc + r_x_wc3))/((-r_x_wc + r_x_wc3)*(2*q_0_wc*q_2_wc + 2*q_1_wc*q_3_wc) + (-r_y_wc + r_y_wc3)*(-2*q_0_wc*q_1_wc + 2*q_2_wc*q_3_wc) + (-r_z_wc + r_z_wc3)*(q_0_wc**2 - q_1_wc**2 - q_2_wc**2 + q_3_wc**2)) + alpha_y*(-2*q_0_wc*(-r_z_wc + r_z_wc3) + 2*q_1_wc*(-r_y_wc + r_y_wc3) - 2*q_2_wc*(-r_x_wc + r_x_wc3))*((-r_x_wc + r_x_wc3)*(-2*q_0_wc*q_3_wc + 2*q_1_wc*q_2_wc) + (-r_y_wc + r_y_wc3)*(q_0_wc**2 - q_1_wc**2 + q_2_wc**2 - q_3_wc**2) + (-r_z_wc + r_z_wc3)*(2*q_0_wc*q_1_wc + 2*q_2_wc*q_3_wc))/((-r_x_wc + r_x_wc3)*(2*q_0_wc*q_2_wc + 2*q_1_wc*q_3_wc) + (-r_y_wc + r_y_wc3)*(-2*q_0_wc*q_1_wc + 2*q_2_wc*q_3_wc) + (-r_z_wc + r_z_wc3)*(q_0_wc**2 - q_1_wc**2 - q_2_wc**2 + q_3_wc**2))**2, alpha_y*(2*q_0_wc*(-r_y_wc + r_y_wc3) + 2*q_1_wc*(-r_z_wc + r_z_wc3) - 2*q_3_wc*(-r_x_wc + r_x_wc3))*((-r_x_wc + r_x_wc3)*(-2*q_0_wc*q_3_wc + 2*q_1_wc*q_2_wc) + (-r_y_wc + r_y_wc3)*(q_0_wc**2 - q_1_wc**2 + q_2_wc**2 - q_3_wc**2) + (-r_z_wc + r_z_wc3)*(2*q_0_wc*q_1_wc + 2*q_2_wc*q_3_wc))/((-r_x_wc + r_x_wc3)*(2*q_0_wc*q_2_wc + 2*q_1_wc*q_3_wc) + (-r_y_wc + r_y_wc3)*(-2*q_0_wc*q_1_wc + 2*q_2_wc*q_3_wc) + (-r_z_wc + r_z_wc3)*(q_0_wc**2 - q_1_wc**2 - q_2_wc**2 + q_3_wc**2))**2 + alpha_y*(2*q_0_wc*(-r_z_wc + r_z_wc3) - 2*q_1_wc*(-r_y_wc + r_y_wc3) + 2*q_2_wc*(-r_x_wc + r_x_wc3))/((-r_x_wc + r_x_wc3)*(2*q_0_wc*q_2_wc + 2*q_1_wc*q_3_wc) + (-r_y_wc + r_y_wc3)*(-2*q_0_wc*q_1_wc + 2*q_2_wc*q_3_wc) + (-r_z_wc + r_z_wc3)*(q_0_wc**2 - q_1_wc**2 - q_2_wc**2 + q_3_wc**2)), alpha_y*(-2*q_0_wc*(-r_x_wc + r_x_wc3) + 2*q_2_wc*(-r_z_wc + r_z_wc3) - 2*q_3_wc*(-r_y_wc + r_y_wc3))*((-r_x_wc + r_x_wc3)*(-2*q_0_wc*q_3_wc + 2*q_1_wc*q_2_wc) + (-r_y_wc + r_y_wc3)*(q_0_wc**2 - q_1_wc**2 + q_2_wc**2 - q_3_wc**2) + (-r_z_wc + r_z_wc3)*(2*q_0_wc*q_1_wc + 2*q_2_wc*q_3_wc))/((-r_x_wc + r_x_wc3)*(2*q_0_wc*q_2_wc + 2*q_1_wc*q_3_wc) + (-r_y_wc + r_y_wc3)*(-2*q_0_wc*q_1_wc + 2*q_2_wc*q_3_wc) + (-r_z_wc + r_z_wc3)*(q_0_wc**2 - q_1_wc**2 - q_2_wc**2 + q_3_wc**2))**2 + alpha_y*(2*q_1_wc*(-r_x_wc + r_x_wc3) + 2*q_2_wc*(-r_y_wc + r_y_wc3) + 2*q_3_wc*(-r_z_wc + r_z_wc3))/((-r_x_wc + r_x_wc3)*(2*q_0_wc*q_2_wc + 2*q_1_wc*q_3_wc) + (-r_y_wc + r_y_wc3)*(-2*q_0_wc*q_1_wc + 2*q_2_wc*q_3_wc) + (-r_z_wc + r_z_wc3)*(q_0_wc**2 - q_1_wc**2 - q_2_wc**2 + q_3_wc**2)), alpha_y*(-2*q_0_wc*(-r_x_wc + r_x_wc3) + 2*q_2_wc*(-r_z_wc + r_z_wc3) - 2*q_3_wc*(-r_y_wc + r_y_wc3))/((-r_x_wc + r_x_wc3)*(2*q_0_wc*q_2_wc + 2*q_1_wc*q_3_wc) + (-r_y_wc + r_y_wc3)*(-2*q_0_wc*q_1_wc + 2*q_2_wc*q_3_wc) + (-r_z_wc + r_z_wc3)*(q_0_wc**2 - q_1_wc**2 - q_2_wc**2 + q_3_wc**2)) + alpha_y*(-2*q_1_wc*(-r_x_wc + r_x_wc3) - 2*q_2_wc*(-r_y_wc + r_y_wc3) - 2*q_3_wc*(-r_z_wc + r_z_wc3))*((-r_x_wc + r_x_wc3)*(-2*q_0_wc*q_3_wc + 2*q_1_wc*q_2_wc) + (-r_y_wc + r_y_wc3)*(q_0_wc**2 - q_1_wc**2 + q_2_wc**2 - q_3_wc**2) + (-r_z_wc + r_z_wc3)*(2*q_0_wc*q_1_wc + 2*q_2_wc*q_3_wc))/((-r_x_wc + r_x_wc3)*(2*q_0_wc*q_2_wc + 2*q_1_wc*q_3_wc) + (-r_y_wc + r_y_wc3)*(-2*q_0_wc*q_1_wc + 2*q_2_wc*q_3_wc) + (-r_z_wc + r_z_wc3)*(q_0_wc**2 - q_1_wc**2 - q_2_wc**2 + q_3_wc**2))**2, 0, 0, 0, 0, 0, 0, 0, 0, 0, 0], [alpha_x*(2*q_0_wc*q_2_wc + 2*q_1_wc*q_3_wc)*((-r_x_wc + r_x_wc3)*(q_0_wc**2 + q_1_wc**2 - q_2_wc**2 - q_3_wc**2) + (-r_y_wc + r_y_wc3)*(2*q_0_wc*q_3_wc + 2*q_1_wc*q_2_wc) + (-r_z_wc + r_z_wc3)*(-2*q_0_wc*q_2_wc + 2*q_1_wc*q_3_wc))/((-r_x_wc + r_x_wc3)*(2*q_0_wc*q_2_wc + 2*q_1_wc*q_3_wc) + (-r_y_wc + r_y_wc3)*(-2*q_0_wc*q_1_wc + 2*q_2_wc*q_3_wc) + (-r_z_wc + r_z_wc3)*(q_0_wc**2 - q_1_wc**2 - q_2_wc**2 + q_3_wc**2))**2 + alpha_x*(-q_0_wc**2 - q_1_wc**2 + q_2_wc**2 + q_3_wc**2)/((-r_x_wc + r_x_wc3)*(2*q_0_wc*q_2_wc + 2*q_1_wc*q_3_wc) + (-r_y_wc + r_y_wc3)*(-2*q_0_wc*q_1_wc + 2*q_2_wc*q_3_wc) + (-r_z_wc + r_z_wc3)*(q_0_wc**2 - q_1_wc**2 - q_2_wc**2 + q_3_wc**2)), alpha_x*(-2*q_0_wc*q_1_wc + 2*q_2_wc*q_3_wc)*((-r_x_wc + r_x_wc3)*(q_0_wc**2 + q_1_wc**2 - q_2_wc**2 - q_3_wc**2) + (-r_y_wc + r_y_wc3)*(2*q_0_wc*q_3_wc + 2*q_1_wc*q_2_wc) + (-r_z_wc + r_z_wc3)*(-2*q_0_wc*q_2_wc + 2*q_1_wc*q_3_wc))/((-r_x_wc + r_x_wc3)*(2*q_0_wc*q_2_wc + 2*q_1_wc*q_3_wc) + (-r_y_wc + r_y_wc3)*(-2*q_0_wc*q_1_wc + 2*q_2_wc*q_3_wc) + (-r_z_wc + r_z_wc3)*(q_0_wc**2 - q_1_wc**2 - q_2_wc**2 + q_3_wc**2))**2 + alpha_x*(-2*q_0_wc*q_3_wc - 2*q_1_wc*q_2_wc)/((-r_x_wc + r_x_wc3)*(2*q_0_wc*q_2_wc + 2*q_1_wc*q_3_wc) + (-r_y_wc + r_y_wc3)*(-2*q_0_wc*q_1_wc + 2*q_2_wc*q_3_wc) + (-r_z_wc + r_z_wc3)*(q_0_wc**2 - q_1_wc**2 - q_2_wc**2 + q_3_wc**2)), alpha_x*(2*q_0_wc*q_2_wc - 2*q_1_wc*q_3_wc)/((-r_x_wc + r_x_wc3)*(2*q_0_wc*q_2_wc + 2*q_1_wc*q_3_wc) + (-r_y_wc + r_y_wc3)*(-2*q_0_wc*q_1_wc + 2*q_2_wc*q_3_wc) + (-r_z_wc + r_z_wc3)*(q_0_wc**2 - q_1_wc**2 - q_2_wc**2 + q_3_wc**2)) + alpha_x*((-r_x_wc + r_x_wc3)*(q_0_wc**2 + q_1_wc**2 - q_2_wc**2 - q_3_wc**2) + (-r_y_wc + r_y_wc3)*(2*q_0_wc*q_3_wc + 2*q_1_wc*q_2_wc) + (-r_z_wc + r_z_wc3)*(-2*q_0_wc*q_2_wc + 2*q_1_wc*q_3_wc))*(q_0_wc**2 - q_1_wc**2 - q_2_wc**2 + q_3_wc**2)/((-r_x_wc + r_x_wc3)*(2*q_0_wc*q_2_wc + 2*q_1_wc*q_3_wc) + (-r_y_wc + r_y_wc3)*(-2*q_0_wc*q_1_wc + 2*q_2_wc*q_3_wc) + (-r_z_wc + r_z_wc3)*(q_0_wc**2 - q_1_wc**2 - q_2_wc**2 + q_3_wc**2))**2, 0, 0, 0, alpha_x*(2*q_0_wc*(-r_x_wc + r_x_wc3) - 2*q_2_wc*(-r_z_wc + r_z_wc3) + 2*q_3_wc*(-r_y_wc + r_y_wc3))/((-r_x_wc + r_x_wc3)*(2*q_0_wc*q_2_wc + 2*q_1_wc*q_3_wc) + (-r_y_wc + r_y_wc3)*(-2*q_0_wc*q_1_wc + 2*q_2_wc*q_3_wc) + (-r_z_wc + r_z_wc3)*(q_0_wc**2 - q_1_wc**2 - q_2_wc**2 + q_3_wc**2)) + alpha_x*(-2*q_0_wc*(-r_z_wc + r_z_wc3) + 2*q_1_wc*(-r_y_wc + r_y_wc3) - 2*q_2_wc*(-r_x_wc + r_x_wc3))*((-r_x_wc + r_x_wc3)*(q_0_wc**2 + q_1_wc**2 - q_2_wc**2 - q_3_wc**2) + (-r_y_wc + r_y_wc3)*(2*q_0_wc*q_3_wc + 2*q_1_wc*q_2_wc) + (-r_z_wc + r_z_wc3)*(-2*q_0_wc*q_2_wc + 2*q_1_wc*q_3_wc))/((-r_x_wc + r_x_wc3)*(2*q_0_wc*q_2_wc + 2*q_1_wc*q_3_wc) + (-r_y_wc + r_y_wc3)*(-2*q_0_wc*q_1_wc + 2*q_2_wc*q_3_wc) + (-r_z_wc + r_z_wc3)*(q_0_wc**2 - q_1_wc**2 - q_2_wc**2 + q_3_wc**2))**2, alpha_x*(2*q_0_wc*(-r_y_wc + r_y_wc3) + 2*q_1_wc*(-r_z_wc + r_z_wc3) - 2*q_3_wc*(-r_x_wc + r_x_wc3))*((-r_x_wc + r_x_wc3)*(q_0_wc**2 + q_1_wc**2 - q_2_wc**2 - q_3_wc**2) + (-r_y_wc + r_y_wc3)*(2*q_0_wc*q_3_wc + 2*q_1_wc*q_2_wc) + (-r_z_wc + r_z_wc3)*(-2*q_0_wc*q_2_wc + 2*q_1_wc*q_3_wc))/((-r_x_wc + r_x_wc3)*(2*q_0_wc*q_2_wc + 2*q_1_wc*q_3_wc) + (-r_y_wc + r_y_wc3)*(-2*q_0_wc*q_1_wc + 2*q_2_wc*q_3_wc) + (-r_z_wc + r_z_wc3)*(q_0_wc**2 - q_1_wc**2 - q_2_wc**2 + q_3_wc**2))**2 + alpha_x*(2*q_1_wc*(-r_x_wc + r_x_wc3) + 2*q_2_wc*(-r_y_wc + r_y_wc3) + 2*q_3_wc*(-r_z_wc + r_z_wc3))/((-r_x_wc + r_x_wc3)*(2*q_0_wc*q_2_wc + 2*q_1_wc*q_3_wc) + (-r_y_wc + r_y_wc3)*(-2*q_0_wc*q_1_wc + 2*q_2_wc*q_3_wc) + (-r_z_wc + r_z_wc3)*(q_0_wc**2 - q_1_wc**2 - q_2_wc**2 + q_3_wc**2)), alpha_x*(-2*q_0_wc*(-r_x_wc + r_x_wc3) + 2*q_2_wc*(-r_z_wc + r_z_wc3) - 2*q_3_wc*(-r_y_wc + r_y_wc3))*((-r_x_wc + r_x_wc3)*(q_0_wc**2 + q_1_wc**2 - q_2_wc**2 - q_3_wc**2) + (-r_y_wc + r_y_wc3)*(2*q_0_wc*q_3_wc + 2*q_1_wc*q_2_wc) + (-r_z_wc + r_z_wc3)*(-2*q_0_wc*q_2_wc + 2*q_1_wc*q_3_wc))/((-r_x_wc + r_x_wc3)*(2*q_0_wc*q_2_wc + 2*q_1_wc*q_3_wc) + (-r_y_wc + r_y_wc3)*(-2*q_0_wc*q_1_wc + 2*q_2_wc*q_3_wc) + (-r_z_wc + r_z_wc3)*(q_0_wc**2 - q_1_wc**2 - q_2_wc**2 + q_3_wc**2))**2 + alpha_x*(-2*q_0_wc*(-r_z_wc + r_z_wc3) + 2*q_1_wc*(-r_y_wc + r_y_wc3) - 2*q_2_wc*(-r_x_wc + r_x_wc3))/((-r_x_wc + r_x_wc3)*(2*q_0_wc*q_2_wc + 2*q_1_wc*q_3_wc) + (-r_y_wc + r_y_wc3)*(-2*q_0_wc*q_1_wc + 2*q_2_wc*q_3_wc) + (-r_z_wc + r_z_wc3)*(q_0_wc**2 - q_1_wc**2 - q_2_wc**2 + q_3_wc**2)), alpha_x*(2*q_0_wc*(-r_y_wc + r_y_wc3) + 2*q_1_wc*(-r_z_wc + r_z_wc3) - 2*q_3_wc*(-r_x_wc + r_x_wc3))/((-r_x_wc + r_x_wc3)*(2*q_0_wc*q_2_wc + 2*q_1_wc*q_3_wc) + (-r_y_wc + r_y_wc3)*(-2*q_0_wc*q_1_wc + 2*q_2_wc*q_3_wc) + (-r_z_wc + r_z_wc3)*(q_0_wc**2 - q_1_wc**2 - q_2_wc**2 + q_3_wc**2)) + alpha_x*(-2*q_1_wc*(-r_x_wc + r_x_wc3) - 2*q_2_wc*(-r_y_wc + r_y_wc3) - 2*q_3_wc*(-r_z_wc + r_z_wc3))*((-r_x_wc + r_x_wc3)*(q_0_wc**2 + q_1_wc**2 - q_2_wc**2 - q_3_wc**2) + (-r_y_wc + r_y_wc3)*(2*q_0_wc*q_3_wc + 2*q_1_wc*q_2_wc) + (-r_z_wc + r_z_wc3)*(-2*q_0_wc*q_2_wc + 2*q_1_wc*q_3_wc))/((-r_x_wc + r_x_wc3)*(2*q_0_wc*q_2_wc + 2*q_1_wc*q_3_wc) + (-r_y_wc + r_y_wc3)*(-2*q_0_wc*q_1_wc + 2*q_2_wc*q_3_wc) + (-r_z_wc + r_z_wc3)*(q_0_wc**2 - q_1_wc**2 - q_2_wc**2 + q_3_wc**2))**2, 0, 0, 0, 0, 0, 0, 0, 0, 0, 0], [alpha_y*(2*q_0_wc*q_2_wc + 2*q_1_wc*q_3_wc)*((-r_x_wc + r_x_wc3)*(-2*q_0_wc*q_3_wc + 2*q_1_wc*q_2_wc) + (-r_y_wc + r_y_wc3)*(q_0_wc**2 - q_1_wc**2 + q_2_wc**2 - q_3_wc**2) + (-r_z_wc + r_z_wc3)*(2*q_0_wc*q_1_wc + 2*q_2_wc*q_3_wc))/((-r_x_wc + r_x_wc3)*(2*q_0_wc*q_2_wc + 2*q_1_wc*q_3_wc) + (-r_y_wc + r_y_wc3)*(-2*q_0_wc*q_1_wc + 2*q_2_wc*q_3_wc) + (-r_z_wc + r_z_wc3)*(q_0_wc**2 - q_1_wc**2 - q_2_wc**2 + q_3_wc**2))**2 + alpha_y*(2*q_0_wc*q_3_wc - 2*q_1_wc*q_2_wc)/((-r_x_wc + r_x_wc3)*(2*q_0_wc*q_2_wc + 2*q_1_wc*q_3_wc) + (-r_y_wc + r_y_wc3)*(-2*q_0_wc*q_1_wc + 2*q_2_wc*q_3_wc) + (-r_z_wc + r_z_wc3)*(q_0_wc**2 - q_1_wc**2 - q_2_wc**2 + q_3_wc**2)), alpha_y*(-2*q_0_wc*q_1_wc + 2*q_2_wc*q_3_wc)*((-r_x_wc + r_x_wc3)*(-2*q_0_wc*q_3_wc + 2*q_1_wc*q_2_wc) + (-r_y_wc + r_y_wc3)*(q_0_wc**2 - q_1_wc**2 + q_2_wc**2 - q_3_wc**2) + (-r_z_wc + r_z_wc3)*(2*q_0_wc*q_1_wc + 2*q_2_wc*q_3_wc))/((-r_x_wc + r_x_wc3)*(2*q_0_wc*q_2_wc + 2*q_1_wc*q_3_wc) + (-r_y_wc + r_y_wc3)*(-2*q_0_wc*q_1_wc + 2*q_2_wc*q_3_wc) + (-r_z_wc + r_z_wc3)*(q_0_wc**2 - q_1_wc**2 - q_2_wc**2 + q_3_wc**2))**2 + alpha_y*(-q_0_wc**2 + q_1_wc**2 - q_2_wc**2 + q_3_wc**2)/((-r_x_wc + r_x_wc3)*(2*q_0_wc*q_2_wc + 2*q_1_wc*q_3_wc) + (-r_y_wc + r_y_wc3)*(-2*q_0_wc*q_1_wc + 2*q_2_wc*q_3_wc) + (-r_z_wc + r_z_wc3)*(q_0_wc**2 - q_1_wc**2 - q_2_wc**2 + q_3_wc**2)), alpha_y*(-2*q_0_wc*q_1_wc - 2*q_2_wc*q_3_wc)/((-r_x_wc + r_x_wc3)*(2*q_0_wc*q_2_wc + 2*q_1_wc*q_3_wc) + (-r_y_wc + r_y_wc3)*(-2*q_0_wc*q_1_wc + 2*q_2_wc*q_3_wc) + (-r_z_wc + r_z_wc3)*(q_0_wc**2 - q_1_wc**2 - q_2_wc**2 + q_3_wc**2)) + alpha_y*((-r_x_wc + r_x_wc3)*(-2*q_0_wc*q_3_wc + 2*q_1_wc*q_2_wc) + (-r_y_wc + r_y_wc3)*(q_0_wc**2 - q_1_wc**2 + q_2_wc**2 - q_3_wc**2) + (-r_z_wc + r_z_wc3)*(2*q_0_wc*q_1_wc + 2*q_2_wc*q_3_wc))*(q_0_wc**2 - q_1_wc**2 - q_2_wc**2 + q_3_wc**2)/((-r_x_wc + r_x_wc3)*(2*q_0_wc*q_2_wc + 2*q_1_wc*q_3_wc) + (-r_y_wc + r_y_wc3)*(-2*q_0_wc*q_1_wc + 2*q_2_wc*q_3_wc) + (-r_z_wc + r_z_wc3)*(q_0_wc**2 - q_1_wc**2 - q_2_wc**2 + q_3_wc**2))**2, 0, 0, 0, alpha_y*(2*q_0_wc*(-r_y_wc + r_y_wc3) + 2*q_1_wc*(-r_z_wc + r_z_wc3) - 2*q_3_wc*(-r_x_wc + r_x_wc3))/((-r_x_wc + r_x_wc3)*(2*q_0_wc*q_2_wc + 2*q_1_wc*q_3_wc) + (-r_y_wc + r_y_wc3)*(-2*q_0_wc*q_1_wc + 2*q_2_wc*q_3_wc) + (-r_z_wc + r_z_wc3)*(q_0_wc**2 - q_1_wc**2 - q_2_wc**2 + q_3_wc**2)) + alpha_y*(-2*q_0_wc*(-r_z_wc + r_z_wc3) + 2*q_1_wc*(-r_y_wc + r_y_wc3) - 2*q_2_wc*(-r_x_wc + r_x_wc3))*((-r_x_wc + r_x_wc3)*(-2*q_0_wc*q_3_wc + 2*q_1_wc*q_2_wc) + (-r_y_wc + r_y_wc3)*(q_0_wc**2 - q_1_wc**2 + q_2_wc**2 - q_3_wc**2) + (-r_z_wc + r_z_wc3)*(2*q_0_wc*q_1_wc + 2*q_2_wc*q_3_wc))/((-r_x_wc + r_x_wc3)*(2*q_0_wc*q_2_wc + 2*q_1_wc*q_3_wc) + (-r_y_wc + r_y_wc3)*(-2*q_0_wc*q_1_wc + 2*q_2_wc*q_3_wc) + (-r_z_wc + r_z_wc3)*(q_0_wc**2 - q_1_wc**2 - q_2_wc**2 + q_3_wc**2))**2, alpha_y*(2*q_0_wc*(-r_y_wc + r_y_wc3) + 2*q_1_wc*(-r_z_wc + r_z_wc3) - 2*q_3_wc*(-r_x_wc + r_x_wc3))*((-r_x_wc + r_x_wc3)*(-2*q_0_wc*q_3_wc + 2*q_1_wc*q_2_wc) + (-r_y_wc + r_y_wc3)*(q_0_wc**2 - q_1_wc**2 + q_2_wc**2 - q_3_wc**2) + (-r_z_wc + r_z_wc3)*(2*q_0_wc*q_1_wc + 2*q_2_wc*q_3_wc))/((-r_x_wc + r_x_wc3)*(2*q_0_wc*q_2_wc + 2*q_1_wc*q_3_wc) + (-r_y_wc + r_y_wc3)*(-2*q_0_wc*q_1_wc + 2*q_2_wc*q_3_wc) + (-r_z_wc + r_z_wc3)*(q_0_wc**2 - q_1_wc**2 - q_2_wc**2 + q_3_wc**2))**2 + alpha_y*(2*q_0_wc*(-r_z_wc + r_z_wc3) - 2*q_1_wc*(-r_y_wc + r_y_wc3) + 2*q_2_wc*(-r_x_wc + r_x_wc3))/((-r_x_wc + r_x_wc3)*(2*q_0_wc*q_2_wc + 2*q_1_wc*q_3_wc) + (-r_y_wc + r_y_wc3)*(-2*q_0_wc*q_1_wc + 2*q_2_wc*q_3_wc) + (-r_z_wc + r_z_wc3)*(q_0_wc**2 - q_1_wc**2 - q_2_wc**2 + q_3_wc**2)), alpha_y*(-2*q_0_wc*(-r_x_wc + r_x_wc3) + 2*q_2_wc*(-r_z_wc + r_z_wc3) - 2*q_3_wc*(-r_y_wc + r_y_wc3))*((-r_x_wc + r_x_wc3)*(-2*q_0_wc*q_3_wc + 2*q_1_wc*q_2_wc) + (-r_y_wc + r_y_wc3)*(q_0_wc**2 - q_1_wc**2 + q_2_wc**2 - q_3_wc**2) + (-r_z_wc + r_z_wc3)*(2*q_0_wc*q_1_wc + 2*q_2_wc*q_3_wc))/((-r_x_wc + r_x_wc3)*(2*q_0_wc*q_2_wc + 2*q_1_wc*q_3_wc) + (-r_y_wc + r_y_wc3)*(-2*q_0_wc*q_1_wc + 2*q_2_wc*q_3_wc) + (-r_z_wc + r_z_wc3)*(q_0_wc**2 - q_1_wc**2 - q_2_wc**2 + q_3_wc**2))**2 + alpha_y*(2*q_1_wc*(-r_x_wc + r_x_wc3) + 2*q_2_wc*(-r_y_wc + r_y_wc3) + 2*q_3_wc*(-r_z_wc + r_z_wc3))/((-r_x_wc + r_x_wc3)*(2*q_0_wc*q_2_wc + 2*q_1_wc*q_3_wc) + (-r_y_wc + r_y_wc3)*(-2*q_0_wc*q_1_wc + 2*q_2_wc*q_3_wc) + (-r_z_wc + r_z_wc3)*(q_0_wc**2 - q_1_wc**2 - q_2_wc**2 + q_3_wc**2)), alpha_y*(-2*q_0_wc*(-r_x_wc + r_x_wc3) + 2*q_2_wc*(-r_z_wc + r_z_wc3) - 2*q_3_wc*(-r_y_wc + r_y_wc3))/((-r_x_wc + r_x_wc3)*(2*q_0_wc*q_2_wc + 2*q_1_wc*q_3_wc) + (-r_y_wc + r_y_wc3)*(-2*q_0_wc*q_1_wc + 2*q_2_wc*q_3_wc) + (-r_z_wc + r_z_wc3)*(q_0_wc**2 - q_1_wc**2 - q_2_wc**2 + q_3_wc**2)) + alpha_y*(-2*q_1_wc*(-r_x_wc + r_x_wc3) - 2*q_2_wc*(-r_y_wc + r_y_wc3) - 2*q_3_wc*(-r_z_wc + r_z_wc3))*((-r_x_wc + r_x_wc3)*(-2*q_0_wc*q_3_wc + 2*q_1_wc*q_2_wc) + (-r_y_wc + r_y_wc3)*(q_0_wc**2 - q_1_wc**2 + q_2_wc**2 - q_3_wc**2) + (-r_z_wc + r_z_wc3)*(2*q_0_wc*q_1_wc + 2*q_2_wc*q_3_wc))/((-r_x_wc + r_x_wc3)*(2*q_0_wc*q_2_wc + 2*q_1_wc*q_3_wc) + (-r_y_wc + r_y_wc3)*(-2*q_0_wc*q_1_wc + 2*q_2_wc*q_3_wc) + (-r_z_wc + r_z_wc3)*(q_0_wc**2 - q_1_wc**2 - q_2_wc**2 + q_3_wc**2))**2, 0, 0, 0, 0, 0, 0, 0, 0, 0, 0]])\n"
     ]
    }
   ],
   "source": [
    "import sympy as sp\n",
    "from sympy.matrices import Matrix\n",
    "from sympy import init_session\n",
    "\n",
    "def qmult(q1, q2):\n",
    "  ''' Multiply two quaternions\n",
    "  Parameters\n",
    "  ----------\n",
    "  q1 : 4 element sequence\n",
    "  q2 : 4 element sequence\n",
    "  Returns\n",
    "  -------\n",
    "  q12 : shape (4,) array\n",
    "  Notes\n",
    "  -----\n",
    "  See : http://en.wikipedia.org/wiki/Quaternions#Hamilton_product\n",
    "  '''\n",
    "  w1, x1, y1, z1 = q1\n",
    "  w2, x2, y2, z2 = q2\n",
    "  w = w1*w2 - x1*x2 - y1*y2 - z1*z2\n",
    "  x = w1*x2 + x1*w2 + y1*z2 - z1*y2\n",
    "  y = w1*y2 + y1*w2 + z1*x2 - x1*z2\n",
    "  z = w1*z2 + z1*w2 + x1*y2 - y1*x2\n",
    "  return w, x, y, z\n",
    "\n",
    "def quat2mat(quat):\n",
    "  ''' Symbolic conversion from quaternion to rotation matrix\n",
    "  For a unit quaternion\n",
    "\n",
    "  From: http://en.wikipedia.org/wiki/Rotation_matrix#Quaternion\n",
    "  '''\n",
    "  w, x, y, z = quat\n",
    "  return Matrix([\n",
    "    [w**2 + x**2 - y**2 - z**2, 2*x*y - 2*z*w, 2*x*z + 2*y*w],\n",
    "    [2*x*y + 2*z*w, w**2 - x**2 + y**2 - z**2, 2*y*z - 2*x*w],\n",
    "    [2*x*z - 2*y*w, 2*y*z + 2*x*w, w**2 - x**2 - y**2 + z**2]])\n",
    "\n",
    "sp.init_printing()\n",
    "\n",
    "# Simple symbolic variables and stacked vectors\n",
    "\n",
    "# Variables for system model\n",
    "r_x_wc, r_y_wc, r_z_wc = sp.symbols('r_x_wc r_y_wc r_z_wc')\n",
    "r_wc = Matrix([[r_x_wc], [r_y_wc], [r_z_wc]])\n",
    "\n",
    "r_x_wc_k, r_y_wc_k, r_z_wc_k = sp.symbols('r_x_wc_k, r_y_wc_k, r_z_wc_k')\n",
    "r_wc_k = Matrix([[r_x_wc_k], [r_y_wc_k], [r_z_wc_k]])\n",
    "\n",
    "dr_x_wc, dr_y_wc, dr_z_wc = sp.symbols('dr_x_wc dr_y_wc dr_z_wc')\n",
    "dr_wc = Matrix([[dr_x_wc], [dr_y_wc], [dr_z_wc]])\n",
    "\n",
    "dr_x_wc_k, dr_y_wc_k, dr_z_wc_k = sp.symbols('dr_x_wc_k dr_y_wc_k dr_z_wc_k')\n",
    "dr_wc_k = Matrix([[dr_x_wc_k], [dr_y_wc_k], [dr_z_wc_k]])\n",
    "\n",
    "q_0_wc, q_1_wc, q_2_wc, q_3_wc = sp.symbols('q_0_wc q_1_wc q_2_wc q_3_wc')\n",
    "q_wc = Matrix([[q_0_wc], [q_1_wc], [q_2_wc], [q_3_wc]])\n",
    "\n",
    "q_0_wc_k, q_1_wc_k, q_2_wc_k, q_3_wc_k = sp.symbols('q_0_wc_k q_1_wc_k q_2_wc_k q_3_wc_k')\n",
    "q_wc_k = Matrix([[q_0_wc_k], [q_1_wc_k], [q_2_wc_k], [q_3_wc_k]])\n",
    "\n",
    "omega_x_wc, omega_y_wc, omega_z_wc = sp.symbols('omega_x_wc omega_y_wc omega_z_wc')\n",
    "omega_wc = Matrix([[omega_x_wc], [omega_y_wc], [omega_z_wc]])\n",
    "\n",
    "omega_x_wc_k, omega_y_wc_k, omega_z_wc_k = sp.symbols('omega_x_wc_k omega_y_wc_k omega_z_wc_k')\n",
    "omega_wc_k = Matrix([[omega_x_wc_k], [omega_y_wc_k], [omega_z_wc_k]])\n",
    "\n",
    "r_x_wm, r_y_wm, r_z_wm = sp.symbols('r_x_wm r_y_wm r_z_wm')\n",
    "r_wm = Matrix([[r_x_wm], [r_y_wm], [r_z_wm]])\n",
    "\n",
    "r_x_wm_k, r_y_wm_k, r_z_wm_k = sp.symbols('r_x_wm_k r_y_wm_k r_z_wm_k')\n",
    "r_wm_k = Matrix([[r_x_wm_k], [r_y_wm_k], [r_z_wm_k]])\n",
    "\n",
    "q_0_wm, q_1_wm, q_2_wm, q_3_wm = sp.symbols('q_0_wm q_1_wm q_2_wm q_3_wm')\n",
    "q_wm = Matrix([[q_0_wm], [q_1_wm], [q_2_wm], [q_3_wm]])\n",
    "\n",
    "q_0_wm_k, q_1_wm_k, q_2_wm_k, q_3_wm_k = sp.symbols('q_0_wm_k q_1_wm_k q_2_wm_k q_3_wm_k')\n",
    "q_wm_k = Matrix([[q_0_wm_k], [q_1_wm_k], [q_2_wm_k], [q_3_wm_k]])\n",
    "\n",
    "delta_t = sp.symbols('delta_t')\n",
    "\n",
    "# Variables for measurement model\n",
    "r_x_cc0, r_y_cc0, r_x_cc1, r_y_cc1, r_x_cc2, r_y_cc2, r_x_cc2, r_y_cc2 = sp.symbols('r_x_cc0 r_y_cc0 r_x_cc1 r_y_cc1 r_x_cc2 r_y_cc2 r_x_cc2 r_y_cc2')\n",
    "\n",
    "r_x_wc1, r_y_wc1, r_z_wc1 = sp.symbols('r_x_wc1 r_y_wc1 r_z_wc1')\n",
    "r_wc1 = Matrix([[r_x_wc1], [r_y_wc1], [r_z_wc1]])\n",
    "\n",
    "r_cc_1 = quat2mat(q_wc).transpose() * (r_wc1 - r_wc)\n",
    "\n",
    "r_x_wc2, r_y_wc2, r_z_wc2 = sp.symbols('r_x_wc2 r_y_wc2 r_z_wc2')\n",
    "r_wc2 = Matrix([[r_x_wc2], [r_y_wc2], [r_z_wc2]])\n",
    "\n",
    "r_cc_2 = quat2mat(q_wc).transpose() * (r_wc2 - r_wc)\n",
    "\n",
    "r_x_wc3, r_y_wc3, r_z_wc3 = sp.symbols('r_x_wc3 r_y_wc3 r_z_wc3')\n",
    "r_wc3 = Matrix([[r_x_wc3], [r_y_wc3], [r_z_wc3]])\n",
    "\n",
    "r_cc_3 = quat2mat(q_wc).transpose() * (r_wc3 - r_wc)\n",
    "\n",
    "r_x_wc4, r_y_wc4, r_z_wc4 = sp.symbols('r_x_wc4 r_y_wc4 r_z_wc4')\n",
    "r_wc4 = Matrix([[r_x_wc4], [r_y_wc4], [r_z_wc4]])\n",
    "\n",
    "r_cc_4 = quat2mat(q_wc).transpose() * (r_wc3 - r_wc)\n",
    "\n",
    "alpha_x, alpha_y, c_x, c_y = sp.symbols('alpha_x alpha_y c_x x_y')\n",
    "\n",
    "#print('r_cc_1 = {0}'.format(sp.simplify(r_cc_1)))\n",
    "\n",
    "#print('type: {0}'.format(type(r_wc_k)))\n",
    "\n",
    "# State\n",
    "\n",
    "x = Matrix([r_wc, dr_wc, q_wc, omega_wc, r_wm, q_wm])\n",
    "\n",
    "# System model\n",
    "\n",
    "r_wc_k = r_wc + delta_t * (dr_wc + omega_wc.cross(r_wc))\n",
    "#print('r_wc_k = {0}'.format(r_wc_k))\n",
    "\n",
    "dr_wc_k = dr_wc + delta_t * (omega_wc.cross(dr_wc))\n",
    "\n",
    "tmp = qmult(Matrix([[0], [omega_x_wc], [omega_y_wc], [omega_z_wc]]).transpose(), q_wc.transpose())\n",
    "q_wc_k = Matrix([[0.5 * tmp[0]], [0.5 * tmp[1]], [0.5 * tmp[2]], [0.5 * tmp[3]]])\n",
    "#print('q_wc_k = {0}'.format(sp.expand(q_wc_k)))\n",
    "\n",
    "omega_wc_k = omega_wc\n",
    "\n",
    "r_wm_k = r_wm\n",
    "\n",
    "q_wm_k = q_wm\n",
    "\n",
    "q = Matrix([r_wc_k, dr_wc_k, q_wc_k, omega_wc_k, r_wm_k, q_wm_k])\n",
    "\n",
    "#print('type: {0}'.format(type(q)))\n",
    "\n",
    "# Jacobian A = dq/dx\n",
    "\n",
    "A = q.jacobian(x)\n",
    "print('A = {0}'.format(A))\n",
    "\n",
    "# Measurement model\n",
    "\n",
    "h = Matrix([[alpha_x * (r_cc_1[0,0]/r_cc_1[2,0]) + c_x],\n",
    "            [alpha_y * (r_cc_1[1,0]/r_cc_1[2,0]) + c_y],\n",
    "            [alpha_x * (r_cc_2[0,0]/r_cc_2[2,0]) + c_x],\n",
    "            [alpha_y * (r_cc_2[1,0]/r_cc_2[2,0]) + c_y],\n",
    "            [alpha_x * (r_cc_3[0,0]/r_cc_3[2,0]) + c_x],\n",
    "            [alpha_y * (r_cc_3[1,0]/r_cc_3[2,0]) + c_y],\n",
    "            [alpha_x * (r_cc_4[0,0]/r_cc_4[2,0]) + c_x],\n",
    "            [alpha_y * (r_cc_4[1,0]/r_cc_4[2,0]) + c_y]])\n",
    "#print('h = {0}'.format(h[0,0]))\n",
    "\n",
    "H = h.jacobian(x)\n",
    "print('H = {0}'.format(H))"
   ]
  },
  {
   "cell_type": "markdown",
   "metadata": {
    "collapsed": true
   },
   "source": [
    "$M(k) = \\frac{\\partial h_k}{\\partial w(k)} (\\hat{x}_p(k),\\textbf{ w(k) = 0}) = \\begin{bmatrix} \\textit{diag}( Q_{r_{xz_{0}}},...,Q_{r_{yz_{3}}}) \\\\ . \\\\ . \\\\ \\textit{diag}( Q_{r_{xz_{0}}},...,Q_{r_{yz_{3}}}) \\end{bmatrix}$"
   ]
  },
  {
   "cell_type": "code",
   "execution_count": null,
   "metadata": {
    "collapsed": true
   },
   "outputs": [],
   "source": []
  }
 ],
 "metadata": {
  "kernelspec": {
   "display_name": "Python 3",
   "language": "python",
   "name": "python3"
  },
  "language_info": {
   "codemirror_mode": {
    "name": "ipython",
    "version": 3
   },
   "file_extension": ".py",
   "mimetype": "text/x-python",
   "name": "python",
   "nbconvert_exporter": "python",
   "pygments_lexer": "ipython3",
   "version": "3.6.1"
  }
 },
 "nbformat": 4,
 "nbformat_minor": 2
}
